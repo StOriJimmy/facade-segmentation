{
 "cells": [
  {
   "cell_type": "code",
   "execution_count": null,
   "metadata": {
    "collapsed": false
   },
   "outputs": [],
   "source": [
    "%pylab notebook"
   ]
  },
  {
   "cell_type": "markdown",
   "metadata": {},
   "source": [
    "# Evaluate the results of anisotropic training"
   ]
  },
  {
   "cell_type": "markdown",
   "metadata": {},
   "source": [
    "## Fetch the CMP data to compare against"
   ]
  },
  {
   "cell_type": "code",
   "execution_count": null,
   "metadata": {
    "collapsed": false
   },
   "outputs": [],
   "source": [
    "import os\n",
    "import sys\n",
    "import numpy as np\n",
    "from glob import glob\n",
    "\n",
    "eval_txt = 'data/training/independant_12_layers/fold_01/eval.txt'\n",
    "eval_files = [fn.strip() for fn in open(eval_txt).readlines()]\n",
    "print \"Found {} eval files\".format(len(eval_files))\n",
    "\n",
    "cmp_eval_files = [f for f in eval_files if '/cmp/' in f]\n",
    "print \"Found\", len(cmp_eval_files), \"from the CMP dataset\", len(eval_files)-len(cmp_eval_files), \"are our own\""
   ]
  },
  {
   "cell_type": "code",
   "execution_count": null,
   "metadata": {
    "collapsed": false
   },
   "outputs": [],
   "source": [
    "from pyfacades.util.metrics import Metrics"
   ]
  },
  {
   "cell_type": "code",
   "execution_count": null,
   "metadata": {
    "collapsed": false
   },
   "outputs": [],
   "source": [
    "!nvidia-smi"
   ]
  },
  {
   "cell_type": "code",
   "execution_count": null,
   "metadata": {
    "collapsed": false
   },
   "outputs": [],
   "source": [
    "import caffe\n",
    "#caffe.set_mode_cpu()\n",
    "caffe.set_mode_gpu()\n",
    "caffe.set_device(0)"
   ]
  },
  {
   "cell_type": "code",
   "execution_count": null,
   "metadata": {
    "collapsed": false
   },
   "outputs": [],
   "source": [
    "import skimage.io\n",
    "from skimage.transform import warp, ProjectiveTransform"
   ]
  },
  {
   "cell_type": "code",
   "execution_count": null,
   "metadata": {
    "collapsed": false
   },
   "outputs": [],
   "source": [
    "from pyfacades.rectify import Homography as AffaraRectifier"
   ]
  },
  {
   "cell_type": "code",
   "execution_count": null,
   "metadata": {
    "collapsed": false
   },
   "outputs": [],
   "source": [
    "from pyfacades.util import Metrics, softmax, channels_first, channels_last"
   ]
  },
  {
   "cell_type": "code",
   "execution_count": null,
   "metadata": {
    "collapsed": false
   },
   "outputs": [],
   "source": [
    "from pyfacades.models.driving_12x360x480 import process_strip as segment_driving"
   ]
  },
  {
   "cell_type": "code",
   "execution_count": null,
   "metadata": {
    "collapsed": false
   },
   "outputs": [],
   "source": [
    "from pyfacades.models.independant_12_layers.segment import process_strip"
   ]
  },
  {
   "cell_type": "code",
   "execution_count": null,
   "metadata": {
    "collapsed": false
   },
   "outputs": [],
   "source": [
    "import pyfacades.models.independant_12_layers as i12"
   ]
  },
  {
   "cell_type": "markdown",
   "metadata": {},
   "source": [
    "## Put it all together "
   ]
  },
  {
   "cell_type": "raw",
   "metadata": {
    "collapsed": false
   },
   "source": [
    "%pdb on"
   ]
  },
  {
   "cell_type": "code",
   "execution_count": null,
   "metadata": {
    "collapsed": false
   },
   "outputs": [],
   "source": [
    "def get_metrics(f, vis=False, rectify=True):\n",
    "    blob = np.load(f)\n",
    "    rgb = blob[:3]\n",
    "    expected = blob[3:]  \n",
    "    expected_windows = expected[i12.WINDOW]\n",
    "    \n",
    "    # Remove padding from considereation\n",
    "    padding = rgb.max(axis=0).max(axis=0) == 0\n",
    "    padding = np.outer(np.ones(rgb.shape[1]), padding) > 0\n",
    "    expected_windows[padding] = 1\n",
    "\n",
    "    \n",
    "    \n",
    "    results = process_strip(rgb)\n",
    "    predicted_windows = results.features[i12.WINDOW,(0,1)].argmax(axis=0)*2\n",
    "    \n",
    "    mf = Metrics(expected=expected_windows, \n",
    "             predicted=predicted_windows, \n",
    "             label_positive=2,\n",
    "             label_negative=0,\n",
    "             source=f,\n",
    "             feature='window'\n",
    "            )\n",
    "    if vis:\n",
    "        clf()\n",
    "        subplot(221)\n",
    "        imshow(channels_last(rgb)/255.)\n",
    "        axis('off')\n",
    "        subplot(223)\n",
    "        imshow(expected_windows, vmin=0, vmax=2)\n",
    "        axis('off')\n",
    "        subplot(222)\n",
    "        imshow(predicted_windows, vmin=0, vmax=2)\n",
    "        axis('off')\n",
    "        subplot(224)\n",
    "        imshow(results.features[i12.WINDOW,1], vmin=0, vmax=1, cmap=cm.gray)\n",
    "        axis('off')\n",
    "\n",
    "        \n",
    "        try:\n",
    "            suptitle('A:{}, P:{}, R:{}'.format(mf.pixel_accuracy, mf.pixel_precision, mf.pixel_recall))\n",
    "        except ZeroDivisionError:\n",
    "            pass\n",
    "\n",
    "    return mf, rgb, expected_windows, predicted_windows"
   ]
  },
  {
   "cell_type": "code",
   "execution_count": null,
   "metadata": {
    "collapsed": false
   },
   "outputs": [],
   "source": [
    "figure(figsize=(8,8))\n",
    "mf, rgb, expected, predicted = get_metrics(eval_files[12], vis=True, rectify=True)"
   ]
  },
  {
   "cell_type": "code",
   "execution_count": null,
   "metadata": {
    "collapsed": false
   },
   "outputs": [],
   "source": [
    "import anydbm\n",
    "import json\n",
    "import hashlib\n",
    "import munch"
   ]
  },
  {
   "cell_type": "code",
   "execution_count": null,
   "metadata": {
    "collapsed": false
   },
   "outputs": [],
   "source": [
    "eval_results = anydbm.open('eval_independant_based_on_CMP', 'c')\n",
    "checksum = hashlib.md5(open(i12.WEIGHTS).read()).hexdigest()"
   ]
  },
  {
   "cell_type": "code",
   "execution_count": null,
   "metadata": {
    "collapsed": false
   },
   "outputs": [],
   "source": [
    "if 'md5' in eval_results and eval_results['md5'] == checksum:\n",
    "    print \"We already seem to have run evaluation...\""
   ]
  },
  {
   "cell_type": "code",
   "execution_count": null,
   "metadata": {
    "collapsed": false,
    "scrolled": false
   },
   "outputs": [],
   "source": [
    "fig = figure(figsize=(6,6))\n",
    "\n",
    "recompute = False\n",
    "visualize = False\n",
    "\n",
    "total = Metrics(feature='windows')\n",
    "for i, f in enumerate(eval_files):   \n",
    "    if recompute or f not in eval_results:\n",
    "        mf, rgb, expected, predicted = get_metrics(f, visualize)\n",
    "        eval_results[f] = json.dumps(mf.as_dict())\n",
    "        if visualize:\n",
    "            try:\n",
    "                suptitle('{} of {}, $P$:{:.2%}, $R$:{:.2%}, $F_1$:{:.2%}, $A$:{:.2%}'.format(i, len(eval_files), total.pixel_precision, total.pixel_recall, total.pixel_f1, total.pixel_accuracy))\n",
    "            except ZeroDivisionError:\n",
    "                suptitle(\"Not enough samples yet....\")         \n",
    "            fig.canvas.draw()\n",
    "    else:\n",
    "        mf = Metrics(**json.loads(eval_results[f]))\n",
    "    print mf, \n",
    "    total += mf\n",
    "    print total, \"Acc:\", total.pixel_accuracy\n",
    "print \"Total(GSV + CMP) &\",\n",
    "print '{:.3f}'.format(total.pixel_accuracy),\n",
    "print '& {:.2f}'.format(total.pixel_precision),\n",
    "print '& {:.2f}'.format(total.pixel_recall),\n",
    "print '& {:.2f}'.format(total.pixel_f1),\n",
    "print '& {:.2f}'.format(total.object_precision),\n",
    "print '& {:.2f}'.format(total.object_recall),\n",
    "print '& {:.2f}'.format(total.object_f1),\n",
    "print r'\\\\'"
   ]
  },
  {
   "cell_type": "markdown",
   "metadata": {},
   "source": [
    "#  The best and the worst"
   ]
  },
  {
   "cell_type": "code",
   "execution_count": null,
   "metadata": {
    "collapsed": false
   },
   "outputs": [],
   "source": [
    "accuracies = [Metrics(**json.loads(eval_results[f])).pixel_f1 for f in eval_files]\n",
    "argworst = argsort(accuracies)\n",
    "worst = array(eval_files)[argworst]\n",
    "worst_indices = [eval_files.index(k) for k in worst]"
   ]
  },
  {
   "cell_type": "code",
   "execution_count": null,
   "metadata": {
    "collapsed": false
   },
   "outputs": [],
   "source": [
    "figure()\n",
    "plot(linspace(0,100, len(accuracies)), array(accuracies)[argworst], label='Multilabel/Edge (CMP)');\n",
    "ylabel('$F_1$')\n",
    "xlabel('rank')\n",
    "legend(loc='best')"
   ]
  },
  {
   "cell_type": "code",
   "execution_count": null,
   "metadata": {
    "collapsed": false
   },
   "outputs": [],
   "source": [
    "%run -i color_coded_errors.py"
   ]
  },
  {
   "cell_type": "raw",
   "metadata": {},
   "source": [
    "for i in range(9):\n",
    "    cached = 'independant-CMP-top-{}.png'.format(i+1)\n",
    "    os.remove(cached)"
   ]
  },
  {
   "cell_type": "code",
   "execution_count": null,
   "metadata": {
    "collapsed": false
   },
   "outputs": [],
   "source": [
    "cmp_comparison_files = [fn.strip() for fn in open('cmp_comparison_files.txt')]\n",
    "\n",
    "import os\n",
    "fig = figure(figsize=(9,9))\n",
    "plt.subplots_adjust(wspace=0)\n",
    "for i in range(9):\n",
    "    subplot(3,3,i+1)\n",
    "    cached = 'independant-CMP-top-{}.png'.format(i+1)\n",
    "    #os.remove(cached)\n",
    "    if os.path.isfile(cached):\n",
    "        err_image = imread(cached)\n",
    "    else:\n",
    "        err_image = render_errors(cmp_comparison_files[i], alpha=0.6);\n",
    "        imsave(cached, err_image)\n",
    "    imshow(err_image)\n",
    "    xticks([]); yticks([]);\n",
    "    #xlabel(cached, fontsize=8)\n",
    "    fig.canvas.draw()\n",
    "fig.tight_layout()\n",
    "savefig('independant-CMP-top-9-figure.png', dpi=400)"
   ]
  },
  {
   "cell_type": "code",
   "execution_count": null,
   "metadata": {
    "collapsed": false
   },
   "outputs": [],
   "source": [
    "for i in range(9):\n",
    "    cached = 'independant-GSV-top-{}.png'.format(i+1)\n",
    "    os.remove(cached)"
   ]
  },
  {
   "cell_type": "code",
   "execution_count": null,
   "metadata": {
    "collapsed": false
   },
   "outputs": [],
   "source": [
    "gsv_comparison_files = [fn.strip() for fn in open('gsv_comparison_files.txt')]\n",
    "\n",
    "import os\n",
    "fig = figure(figsize=(9,9))\n",
    "plt.subplots_adjust(wspace=0)\n",
    "for i in range(9):\n",
    "    subplot(3,3,i+1)\n",
    "    cached = 'independant-GSV-top-{}.png'.format(i+1)\n",
    "    if os.path.isfile(cached):\n",
    "        err_image = imread(cached)\n",
    "    else:\n",
    "        err_image = render_errors(gsv_comparison_files[i], alpha=0.6);\n",
    "        imsave(cached, err_image)\n",
    "    imshow(err_image)\n",
    "    xticks([]); yticks([]); \n",
    "    #xlabel(cached, fontsize=8)\n",
    "    fig.canvas.draw()\n",
    "fig.tight_layout()\n",
    "savefig('independant-GSV-top-9-figure.png', dpi=400)"
   ]
  },
  {
   "cell_type": "code",
   "execution_count": null,
   "metadata": {
    "collapsed": false
   },
   "outputs": [],
   "source": []
  },
  {
   "cell_type": "code",
   "execution_count": null,
   "metadata": {
    "collapsed": false
   },
   "outputs": [],
   "source": []
  },
  {
   "cell_type": "code",
   "execution_count": null,
   "metadata": {
    "collapsed": false
   },
   "outputs": [],
   "source": []
  },
  {
   "cell_type": "code",
   "execution_count": null,
   "metadata": {
    "collapsed": false
   },
   "outputs": [],
   "source": [
    "figure(figsize=(8, 16))\n",
    "result = get_metrics(worst[-1])\n",
    "subplot(321); title('original')\n",
    "subplot(322); title('label-colors')\n",
    "subplot(323); title('expected')\n",
    "subplot(324); title('predicted')\n",
    "subplot(325); title('rectified')\n",
    "subplot(326); title('$\\Pr[\\text{window}]$')\n",
    "savefig('worst_example.png', dpi=300)"
   ]
  },
  {
   "cell_type": "code",
   "execution_count": null,
   "metadata": {
    "collapsed": false
   },
   "outputs": [],
   "source": [
    "figure(figsize=(8, 16))\n",
    "result = get_metrics(worst[0])\n",
    "subplot(321); title('original')\n",
    "subplot(322); title('label-colors')\n",
    "subplot(323); title('expected')\n",
    "subplot(324); title('predicted')\n",
    "subplot(325); title('rectified')\n",
    "subplot(326); title('$\\Pr[\\text{window}]$')\n",
    "savefig('worst_example.png', dpi=300)"
   ]
  },
  {
   "cell_type": "code",
   "execution_count": null,
   "metadata": {
    "collapsed": false
   },
   "outputs": [],
   "source": [
    "figure(figsize=(4, 8))\n",
    "result = get_metrics(worst[1])\n",
    "subplot(321); title('original')\n",
    "subplot(322); title('label-colors')\n",
    "subplot(323); title('expected')\n",
    "subplot(324); title('predicted')\n",
    "subplot(325); title('rectified')\n",
    "subplot(326); title('$\\Pr[\\text{window}]$')"
   ]
  },
  {
   "cell_type": "code",
   "execution_count": null,
   "metadata": {
    "collapsed": false
   },
   "outputs": [],
   "source": [
    "figure(figsize=(4, 8))\n",
    "result = get_metrics(worst[2])\n",
    "subplot(321); title('original')\n",
    "subplot(322); title('label-colors')\n",
    "subplot(323); title('expected')\n",
    "subplot(324); title('predicted')\n",
    "subplot(325); title('rectified')\n",
    "subplot(326); title('$\\Pr[\\text{window}]$')"
   ]
  },
  {
   "cell_type": "markdown",
   "metadata": {
    "collapsed": false
   },
   "source": [
    "# And on GSV Images"
   ]
  },
  {
   "cell_type": "code",
   "execution_count": null,
   "metadata": {
    "collapsed": false
   },
   "outputs": [],
   "source": [
    "import os\n",
    "gsv_total = Metrics()\n",
    "for f in eval_results:\n",
    "    if os.path.isfile(f) and '/cmp/' not in f:\n",
    "        gsv_total  += Metrics(**json.loads(eval_results[f]))\n",
    "print gsv_total\n",
    "print 'Acc:', gsv_total.pixel_accuracy"
   ]
  },
  {
   "cell_type": "code",
   "execution_count": null,
   "metadata": {
    "collapsed": false
   },
   "outputs": [],
   "source": [
    "print \"Total(GSV) &\",\n",
    "print '{:.3f}'.format(gsv_total.pixel_accuracy),\n",
    "print '& {:.2f}'.format(gsv_total.pixel_precision),\n",
    "print '& {:.2f}'.format(gsv_total.pixel_recall),\n",
    "print '& {:.2f}'.format(gsv_total.pixel_f1),\n",
    "print '& {:.2f}'.format(gsv_total.object_precision),\n",
    "print '& {:.2f}'.format(gsv_total.object_recall),\n",
    "print '& {:.2f}'.format(gsv_total.object_f1),\n",
    "print r'\\\\'"
   ]
  },
  {
   "cell_type": "code",
   "execution_count": null,
   "metadata": {
    "collapsed": false
   },
   "outputs": [],
   "source": []
  }
 ],
 "metadata": {
  "anaconda-cloud": {},
  "kernelspec": {
   "display_name": "Python [conda env:femiani]",
   "language": "python",
   "name": "conda-env-femiani-py"
  },
  "language_info": {
   "codemirror_mode": {
    "name": "ipython",
    "version": 2
   },
   "file_extension": ".py",
   "mimetype": "text/x-python",
   "name": "python",
   "nbconvert_exporter": "python",
   "pygments_lexer": "ipython2",
   "version": "2.7.12"
  }
 },
 "nbformat": 4,
 "nbformat_minor": 1
}
