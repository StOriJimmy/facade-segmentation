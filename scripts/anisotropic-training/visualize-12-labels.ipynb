{
 "cells": [
  {
   "cell_type": "markdown",
   "metadata": {},
   "source": [
    "# Visualize the 12-label outputs"
   ]
  },
  {
   "cell_type": "code",
   "execution_count": null,
   "metadata": {
    "collapsed": false
   },
   "outputs": [],
   "source": [
    "%pylab inline\n",
    "import os"
   ]
  },
  {
   "cell_type": "code",
   "execution_count": null,
   "metadata": {
    "collapsed": false
   },
   "outputs": [],
   "source": [
    "DATA_ROOT = './'"
   ]
  },
  {
   "cell_type": "code",
   "execution_count": null,
   "metadata": {
    "collapsed": false
   },
   "outputs": [],
   "source": [
    "evaluation_set_path ='./data/training/independant_12_layers/fold_01/eval.txt'\n",
    "evaluation_set = [os.path.join(DATA_ROOT,fn.strip()) for fn in open(evaluation_set_path)]"
   ]
  },
  {
   "cell_type": "markdown",
   "metadata": {},
   "source": [
    "##  We visualize and evaluate on preprocesses imagery"
   ]
  },
  {
   "cell_type": "code",
   "execution_count": null,
   "metadata": {
    "collapsed": false
   },
   "outputs": [],
   "source": [
    "FEATURES=['background', \n",
    "          'facade',\n",
    "          'window',\n",
    "          'door', \n",
    "          'cornice', \n",
    "          'sill', \n",
    "          'balcony',\n",
    "          'blind',\n",
    "          'deco',\n",
    "          'molding',\n",
    "          'pillar',\n",
    "          'shop']"
   ]
  },
  {
   "cell_type": "code",
   "execution_count": null,
   "metadata": {
    "collapsed": false
   },
   "outputs": [],
   "source": [
    "COLORS = cm.hsv(linspace(0, .7, len(FEATURES)))\n",
    "COLORS[FEATURES.index('facade')][3] = 0"
   ]
  },
  {
   "cell_type": "code",
   "execution_count": null,
   "metadata": {
    "collapsed": false
   },
   "outputs": [],
   "source": [
    "%%file visualize_labels.py\n",
    "\n",
    "import skimage.measure\n",
    "import matplotlib.patheffects as path_effects\n",
    "\n",
    "def plot_label_colors(width=0.3, features=FEATURES, colors=COLORS):\n",
    "    ax = gca()\n",
    "    ymin, ymax = ax.get_ylim()\n",
    "    xmin, xmax = ax.get_xlim()\n",
    "    width *= xmax-xmin\n",
    "    \n",
    "    ax.set_xlim(xmin, xmax+width)\n",
    "   \n",
    "    x = xmax\n",
    "    h = (ymax-ymin)/len(features)\n",
    "    for i, label in enumerate(FEATURES):\n",
    "        y = ymin+i*h\n",
    "        R = Rectangle((x,y), width, h, fill=True, color=COLORS[i], alpha=1)\n",
    "        ax.add_patch(R)\n",
    "        R = Rectangle((x,y), width, h, fill=False, color=0.5*COLORS[i], alpha=1 )\n",
    "        ax.add_patch(R)\n",
    "        text(x+0.5*width, y+0.5*h, label, color='black', \n",
    "             horizontalalignment=\"center\", verticalalignment=\"center\")\n",
    "\n",
    "    \n",
    "def plot_mask(mask, color, edge_color=None, unknown_color=None, alpha=0.7):\n",
    "    color = array(color)\n",
    "    color[3] *= alpha\n",
    "    \n",
    "    if edge_color is None:\n",
    "        edge_color = array(color)\n",
    "        edge_color[3] = 1\n",
    "        \n",
    "    if unknown_color is None:\n",
    "        unknown_color = array([0.5]*4)\n",
    "        \n",
    "        \n",
    "    colors = array([np.zeros_like(color), unknown_color, color, edge_color])[mask.astype(int)]\n",
    "    imshow(colors)\n",
    "    \n",
    "\n",
    "def plot_labels(mask, color, label, fontsize=8):\n",
    "    regions = skimage.measure.regionprops(skimage.measure.label(mask>1))\n",
    "    for r in regions:\n",
    "        y0, x0 = r.centroid\n",
    "        text(x0, y0, label, color=color, fontdict={'weight':'bold'},\n",
    "             size=fontsize, ha='center', va='center',\n",
    "             path_effects=[\n",
    "                path_effects.withSimplePatchShadow(shadow_rgbFace=(0,0,0), alpha=1),\n",
    "                path_effects.Stroke(linewidth=2, foreground='white'),\n",
    "                path_effects.Normal()\n",
    "            ])\n",
    "        \n",
    "   \n",
    "def plot_all_expected(expected, features=FEATURES, colors=COLORS, edge_colors=None, labels=True):\n",
    "    if hasattr(expected, 'keys'):\n",
    "        if 'unlabeled' in expected:\n",
    "            plot_mask(expected['unlabeled'], color=array([0.5]*4), unknown_color=array([0.5]*4))\n",
    "        for i in range(len(features)):\n",
    "            if features[i] in expected:\n",
    "                mask = array(expected[features[i]])\n",
    "                plot_mask(expected[features[i]], color=colors[i])\n",
    "        if labels:\n",
    "            if 'unlabeled' in expected:\n",
    "                mask = array(expected['unlabeled']+1)\n",
    "                plot_labels(mask, color=array([0.5]*3), label='unlabeled')            \n",
    "\n",
    "            for i in range(len(features)):\n",
    "                if features[i] in expected:\n",
    "                    mask = array(expected[features[i]])\n",
    "                    plot_labels(mask, color=colors[i, :3], label=features[i])            \n",
    "    else:\n",
    "        for i in range(len(features)):\n",
    "            plot_mask(expected[i], color=colors[i])\n",
    "        if labels:\n",
    "            for i in range(len(features)):\n",
    "                mask = array(expected[i])\n",
    "                plot_labels(mask, color=colors[i,:3], label=features[i])\n",
    "\n",
    "\n",
    "def visualize_expected(array_or_path, legend=True, legend_width=0.3, labels=True):\n",
    "    if isinstance(array_or_path, str):\n",
    "        data = np.load(array_or_path)\n",
    "    else:\n",
    "        data = array_or_path\n",
    "    if hasattr(data, 'keys'):\n",
    "        rgb = data['rgb']/255.\n",
    "        _labels = data\n",
    "    else:\n",
    "        rgb = data[:3].transpose(1,2,0)/255.\n",
    "        _labels = data[3:]\n",
    "    imshow(rgb)\n",
    "    plot_all_expected(_labels, labels=labels)\n",
    "    xticks([]); yticks([])\n",
    "    if legend:\n",
    "        plot_label_colors(width=legend_width)\n",
    "\n",
    "\n",
    "#visualize_expected(example_path)\n",
    "#visualize_expected('./data/aeriels-24class/regent_many-0421-facade-02-original/01/0001.npz')\n",
    "#visualize_expected('./data/aeriels-24class/regent_many-0418-facade-02-original/01/0001.npz')"
   ]
  },
  {
   "cell_type": "code",
   "execution_count": null,
   "metadata": {
    "collapsed": false
   },
   "outputs": [],
   "source": [
    "%run -i visualize_labels.py"
   ]
  },
  {
   "cell_type": "code",
   "execution_count": null,
   "metadata": {
    "collapsed": false
   },
   "outputs": [],
   "source": [
    "visualize_expected('./data/aeriels-24class/regent_many-0421-facade-02-original/01/0001.npz', legend=True)"
   ]
  },
  {
   "cell_type": "code",
   "execution_count": null,
   "metadata": {
    "collapsed": false
   },
   "outputs": [],
   "source": [
    "import caffe\n",
    "caffe.set_mode_cpu()"
   ]
  },
  {
   "cell_type": "code",
   "execution_count": null,
   "metadata": {
    "collapsed": false
   },
   "outputs": [],
   "source": [
    "I12_PROTO = './non-bayesian-inference-net.prototxt'\n",
    "I12_WEIGHTS = './deploy/test_weights.caffemodel'\n",
    "i12_net = caffe.Net(I12_PROTO, I12_WEIGHTS, caffe.TEST)"
   ]
  },
  {
   "cell_type": "code",
   "execution_count": null,
   "metadata": {
    "collapsed": false
   },
   "outputs": [],
   "source": [
    "example_index = 11\n",
    "example_path = evaluation_set[example_index]\n",
    "example = np.load(example_path)\n",
    "example_rgb = example[:3].transpose(1,2,0)/255."
   ]
  },
  {
   "cell_type": "code",
   "execution_count": null,
   "metadata": {
    "collapsed": false
   },
   "outputs": [],
   "source": [
    "labels = i12_net.forward(data=example[:3], blobs=['data'])"
   ]
  },
  {
   "cell_type": "code",
   "execution_count": null,
   "metadata": {
    "collapsed": false
   },
   "outputs": [],
   "source": [
    "figsize(20,20)\n",
    "predicted = {key.replace('label-','').replace('data', 'rgb'):value[0].squeeze() for key, value in labels.iteritems()}\n",
    "predicted['rgb'] = predicted['rgb'].transpose(1,2,0)\n",
    "visualize_expected(predicted, labels=True)"
   ]
  },
  {
   "cell_type": "code",
   "execution_count": null,
   "metadata": {
    "collapsed": false
   },
   "outputs": [],
   "source": [
    "def softmax(a, axis=0):\n",
    "    a = np.exp(a - a.max(axis=axis))\n",
    "    a /= a.sum(axis=axis)\n",
    "    return a"
   ]
  },
  {
   "cell_type": "code",
   "execution_count": null,
   "metadata": {
    "collapsed": false
   },
   "outputs": [],
   "source": [
    "imshow(i12_net.blobs['data'].data[0].transpose(1,2,0)/255.)\n",
    "imshow(softmax(i12_net.blobs['conv-window'].data[0, (0,2)])[1], alpha=0.5)\n",
    "contour(i12_net.blobs['prob-window'].data[0, 2], levels=[0.05, 0.5, 0.95], colors='r')"
   ]
  },
  {
   "cell_type": "code",
   "execution_count": null,
   "metadata": {
    "collapsed": false
   },
   "outputs": [],
   "source": []
  }
 ],
 "metadata": {
  "kernelspec": {
   "display_name": "Python [conda env:femiani]",
   "language": "python",
   "name": "conda-env-femiani-py"
  },
  "language_info": {
   "codemirror_mode": {
    "name": "ipython",
    "version": 2
   },
   "file_extension": ".py",
   "mimetype": "text/x-python",
   "name": "python",
   "nbconvert_exporter": "python",
   "pygments_lexer": "ipython2",
   "version": "2.7.12"
  }
 },
 "nbformat": 4,
 "nbformat_minor": 1
}
