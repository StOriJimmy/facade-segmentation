{
 "cells": [
  {
   "cell_type": "code",
   "execution_count": null,
   "metadata": {
    "collapsed": false
   },
   "outputs": [],
   "source": [
    "%pylab notebook"
   ]
  },
  {
   "cell_type": "markdown",
   "metadata": {},
   "source": [
    "# Evaluate the results of anisotropic training"
   ]
  },
  {
   "cell_type": "markdown",
   "metadata": {},
   "source": [
    "## Fetch the CMP data to compare against"
   ]
  },
  {
   "cell_type": "code",
   "execution_count": null,
   "metadata": {
    "collapsed": false
   },
   "outputs": [],
   "source": [
    "import os\n",
    "import sys\n",
    "import numpy as np\n",
    "from glob import glob\n",
    "\n",
    "eval_txt = 'data/training/independant_12_layers/fold_01/eval.txt'\n",
    "eval_files = [fn.strip() for fn in open(eval_txt).readlines()]\n",
    "print \"Found {} eval files\".format(len(eval_files))\n",
    "\n",
    "cmp_eval_files = [f for f in eval_files if '/cmp/' in f]\n",
    "print \"Found\", len(cmp_eval_files), \"from the CMP dataset\", len(eval_files)-len(cmp_eval_files), \"are our own\""
   ]
  },
  {
   "cell_type": "code",
   "execution_count": null,
   "metadata": {
    "collapsed": false
   },
   "outputs": [],
   "source": [
    "from pyfacades.util.metrics import Metrics"
   ]
  },
  {
   "cell_type": "code",
   "execution_count": null,
   "metadata": {
    "collapsed": false
   },
   "outputs": [],
   "source": [
    "!nvidia-smi"
   ]
  },
  {
   "cell_type": "code",
   "execution_count": null,
   "metadata": {
    "collapsed": false
   },
   "outputs": [],
   "source": [
    "GPU=False\n",
    "import caffe\n",
    "if not GPU:\n",
    "    caffe.set_mode_cpu()\n",
    "else:\n",
    "    caffe.set_mode_gpu()\n",
    "    caffe.set_device(0)"
   ]
  },
  {
   "cell_type": "code",
   "execution_count": null,
   "metadata": {
    "collapsed": false
   },
   "outputs": [],
   "source": [
    "import skimage.io\n",
    "from skimage.transform import warp, ProjectiveTransform"
   ]
  },
  {
   "cell_type": "code",
   "execution_count": null,
   "metadata": {
    "collapsed": false
   },
   "outputs": [],
   "source": [
    "from pyfacades.rectify import Homography as AffaraRectifier"
   ]
  },
  {
   "cell_type": "code",
   "execution_count": null,
   "metadata": {
    "collapsed": false
   },
   "outputs": [],
   "source": [
    "from pyfacades.util import Metrics, softmax, channels_first, channels_last"
   ]
  },
  {
   "cell_type": "code",
   "execution_count": null,
   "metadata": {
    "collapsed": false
   },
   "outputs": [],
   "source": [
    "from pyfacades.models.driving_12x360x480 import process_strip as segment_driving"
   ]
  },
  {
   "cell_type": "code",
   "execution_count": null,
   "metadata": {
    "collapsed": false
   },
   "outputs": [],
   "source": [
    "import pyfacades.models.disjoint_5_labels as segnet"
   ]
  },
  {
   "cell_type": "code",
   "execution_count": null,
   "metadata": {
    "collapsed": false
   },
   "outputs": [],
   "source": [
    "with warnings.catch_warnings('ignore'):\n",
    "    from pyfacades.models.disjoint_5_labels.segment import process_strip\n",
    "    import pyfacades.models.independant_12_layers as i12"
   ]
  },
  {
   "cell_type": "markdown",
   "metadata": {},
   "source": [
    "## Put it all together "
   ]
  },
  {
   "cell_type": "code",
   "execution_count": null,
   "metadata": {
    "collapsed": false
   },
   "outputs": [],
   "source": [
    "%pdb on"
   ]
  },
  {
   "cell_type": "code",
   "execution_count": null,
   "metadata": {
    "collapsed": false
   },
   "outputs": [],
   "source": [
    "print segnet.segment.LABELS\n",
    "print i12.LABELS"
   ]
  },
  {
   "cell_type": "code",
   "execution_count": null,
   "metadata": {
    "collapsed": false
   },
   "outputs": [],
   "source": [
    "def get_metrics(f, vis=True, rectify=True):\n",
    "    blob = np.load(f)\n",
    "    rgb = blob[:3]  \n",
    "    \n",
    "    expected = blob[3:]  \n",
    "    expected_windows = expected[i12.WINDOW]\n",
    " \n",
    "    probs, confs = process_strip(rgb)\n",
    "    predicted_windows = (probs[segnet.model.WINDOW]>0.5)*2\n",
    "    \n",
    "    expected_windows[expected[i12.BACKGROUND]==2] =1 # ignore\n",
    "    \n",
    "    # Remove padding from considereation\n",
    "    padding = rgb.max(axis=0).max(axis=0) == 0\n",
    "    padding = np.outer(np.ones(rgb.shape[1]), padding) > 0\n",
    "    expected_windows[padding] = 1\n",
    "    \n",
    "    \n",
    "    mf = Metrics(expected=expected_windows, \n",
    "             predicted=predicted_windows, \n",
    "             label_positive=2,\n",
    "             label_negative=0,\n",
    "             source=f,\n",
    "             feature='window'\n",
    "            )\n",
    "    if vis:\n",
    "        clf()\n",
    "        subplot(221)\n",
    "        imshow(channels_last(rgb)/255.)\n",
    "        axis('off')\n",
    "        subplot(223)\n",
    "        imshow(expected_windows, vmin=0, vmax=2)\n",
    "        axis('off')\n",
    "        subplot(222)\n",
    "        imshow(predicted_windows, vmin=0, vmax=2)\n",
    "        axis('off')\n",
    "        subplot(224)\n",
    "        imshow(probs[segnet.model.WINDOW], vmin=0, vmax=1, cmap=cm.gray)\n",
    "        axis('off')\n",
    "\n",
    "        \n",
    "        try:\n",
    "            suptitle('A:{}, P:{}, R:{}'.format(mf.pixel_accuracy, mf.pixel_precision, mf.pixel_recall))\n",
    "        except ZeroDivisionError:\n",
    "            pass\n",
    "\n",
    "    return mf, rgb, expected_windows, predicted_windows\n",
    "\n",
    "figure(figsize=(8,8))\n",
    "mf, rgb, expected, predicted = get_metrics(eval_files[12], rectify=True)"
   ]
  },
  {
   "cell_type": "code",
   "execution_count": null,
   "metadata": {
    "collapsed": false
   },
   "outputs": [],
   "source": [
    "import anydbm\n",
    "import json\n",
    "import hashlib\n",
    "import munch"
   ]
  },
  {
   "cell_type": "code",
   "execution_count": null,
   "metadata": {
    "collapsed": false
   },
   "outputs": [],
   "source": [
    "eval_results = anydbm.open('eval_segnet_based_on_CMP', 'c')\n",
    "checksum = hashlib.md5(open(segnet.model.WEIGHTS).read()).hexdigest()"
   ]
  },
  {
   "cell_type": "code",
   "execution_count": null,
   "metadata": {
    "collapsed": false
   },
   "outputs": [],
   "source": [
    "if 'md5' in eval_results and eval_results['md5'] == checksum:\n",
    "    print \"We already seem to have run evaluation...\""
   ]
  },
  {
   "cell_type": "code",
   "execution_count": null,
   "metadata": {
    "collapsed": false,
    "scrolled": false
   },
   "outputs": [],
   "source": [
    "\n",
    "recompute = False\n",
    "visualize = False\n",
    "\n",
    "if visualize:\n",
    "    fig = figure(figsize=(6,6))\n",
    "\n",
    "\n",
    "total = Metrics(feature='windows')\n",
    "for i, f in enumerate(eval_files):   \n",
    "    if recompute or f not in eval_results:\n",
    "        mf, rgb, expected, predicted = get_metrics(f, visualize)\n",
    "        eval_results[f] = json.dumps(mf.as_dict())\n",
    "        if visualize:\n",
    "            try:\n",
    "                suptitle('{} of {}, $P$:{:.2%}, $R$:{:.2%}, $F_1$:{:.2%}, $A$:{:.2%}'.format(i, len(eval_files), total.pixel_precision, total.pixel_recall, total.pixel_f1, total.pixel_accuracy))\n",
    "            except ZeroDivisionError:\n",
    "                suptitle(\"Not enough samples yet....\")         \n",
    "            fig.canvas.draw()\n",
    "    else:\n",
    "        mf = Metrics(**json.loads(eval_results[f]))\n",
    "    print '\\r {} of {}'.format(i, len(eval_files)),\n",
    "    total += mf\n",
    "print '\\rTotal:', total, \"Acc:\", total.pixel_accuracy"
   ]
  },
  {
   "cell_type": "code",
   "execution_count": null,
   "metadata": {
    "collapsed": false
   },
   "outputs": [],
   "source": [
    "cmp_total = Metrics()\n",
    "for f in eval_results:\n",
    "    if '/cmp/' in f:\n",
    "        cmp_total += Metrics(**json.loads(eval_results[f]))\n",
    "print \"CMP:\", cmp_total, 'Acc:', cmp_total.pixel_accuracy"
   ]
  },
  {
   "cell_type": "code",
   "execution_count": null,
   "metadata": {
    "collapsed": false
   },
   "outputs": [],
   "source": [
    "gsv_total = Metrics()\n",
    "for f in eval_results:\n",
    "    if '/cmp/' not in f:\n",
    "        gsv_total += Metrics(**json.loads(eval_results[f]))\n",
    "print \"GSV:\", gsv_total, 'Acc:', gsv_total.pixel_accuracy"
   ]
  },
  {
   "cell_type": "markdown",
   "metadata": {},
   "source": [
    "# Why is recall so bad?"
   ]
  },
  {
   "cell_type": "code",
   "execution_count": null,
   "metadata": {
    "collapsed": false
   },
   "outputs": [],
   "source": [
    "#%%file color_coded_errors.py\n",
    "\n",
    "ERROR_COLORS = [[128, 128,  128], #TN\n",
    "                [255, 0,    0],   #FP\n",
    "                [0,   255,  0],   #TP\n",
    "                [0,   0,    255], #FN\n",
    "                [0,   0,    0], #ignored\n",
    "               ]  \n",
    "ERROR_COLORS = array(ERROR_COLORS, dtype=np.uint8)\n",
    "\n",
    "def color_coded_errors(expected, predicted, ignored=None, colors=ERROR_COLORS):\n",
    "    TP = ~ignored & (expected & predicted)\n",
    "    FN = ~ignored & (expected & ~predicted)\n",
    "    FP = ~ignored & (~expected & predicted)\n",
    "    TN = ~ignored & (~expected & ~predicted)\n",
    "    errors = np.argmax(array([TN, FP, TP, FN, ignored], dtype=np.uint8), axis=0)\n",
    "    if colors is not None:\n",
    "        return np.ma.masked_array(colors[errors], np.dstack([TN]*3))\n",
    "    else:\n",
    "        return errors  \n",
    "      \n",
    "def render_errors(path, alpha=0.5, noFN=True):\n",
    "    mf, rgb, expected, predicted = get_metrics(path)\n",
    "    ignored = (expected != mf.label_positive) & (expected != mf.label_negative)\n",
    "    expected = expected==mf.label_positive\n",
    "    predicted = predicted==mf.label_positive\n",
    "    print mf.label_positive\n",
    "    cc = color_coded_errors(expected, predicted, ignored)\n",
    "    rgb = rgb.transpose(1,2,0)/255.\n",
    "    if noFN:\n",
    "        rgb[~cc.mask] = (1-alpha)*rgb[~cc.mask] + alpha*cc[~cc.mask]\n",
    "        return rgb.clip(0,1)\n",
    "        #imshow(predicted)\n",
    "    else:\n",
    "        rgb = (1-alpha)*rgb + alpha*cc\n",
    "    return rgb"
   ]
  },
  {
   "cell_type": "code",
   "execution_count": null,
   "metadata": {
    "collapsed": false
   },
   "outputs": [],
   "source": [
    "def score(f):\n",
    "    acc = Metrics(**json.loads(eval_results[f])).pixel_f1\n",
    "    if isnan(acc):\n",
    "        acc = 0\n",
    "    return acc"
   ]
  },
  {
   "cell_type": "code",
   "execution_count": null,
   "metadata": {
    "collapsed": false
   },
   "outputs": [],
   "source": [
    "accs = array([score(f) for f in eval_files])\n",
    "\n",
    "cmp_accs = array([accs[i] for i in range(len(eval_files))  if '/cmp/' in eval_files[i]])\n",
    "cmp_files = array([eval_files[i] for i in range(len(eval_files))  if '/cmp/' in eval_files[i] ])\n",
    "\n",
    "gsv_accs = array([accs[i] for i in range(len(eval_files)) if '/cmp/' not in eval_files[i] ] )\n",
    "gsv_files = array([eval_files[i] for i in range(len(eval_files))  if '/cmp/' not in eval_files[i] ])\n",
    "\n",
    "gsv_ranking = argsort(gsv_accs)\n",
    "cmp_ranking = argsort(cmp_accs)"
   ]
  },
  {
   "cell_type": "code",
   "execution_count": null,
   "metadata": {
    "collapsed": false
   },
   "outputs": [],
   "source": [
    "figure()\n",
    "plot(gsv_accs[gsv_ranking])"
   ]
  },
  {
   "cell_type": "code",
   "execution_count": null,
   "metadata": {
    "collapsed": false
   },
   "outputs": [],
   "source": [
    "for i in range(9):\n",
    "    cached = 'segnet-GSV-top-{}.png'.format(i+1)\n",
    "    os.remove(cached)"
   ]
  },
  {
   "cell_type": "code",
   "execution_count": null,
   "metadata": {
    "collapsed": false
   },
   "outputs": [],
   "source": [
    "gsv_comparison_files = [fn.strip() for fn in open('gsv_comparison_files.txt')]\n",
    "\n",
    "import os\n",
    "fig = figure(figsize=(9,9))\n",
    "plt.subplots_adjust(wspace=0)\n",
    "for i in range(9):\n",
    "    subplot(3,3,i+1)\n",
    "    cached = 'segnet-GSV-top-{}.png'.format(i+1)\n",
    "    if os.path.isfile(cached):\n",
    "        err_image = imread(cached)\n",
    "    else:\n",
    "        err_image = render_errors(gsv_comparison_files[i], alpha=0.6);\n",
    "        imsave(cached, err_image)\n",
    "    imshow(err_image)\n",
    "    xticks([]); yticks([]); \n",
    "    #xlabel(cached, fontsize=8)\n",
    "    fig.canvas.draw()\n",
    "fig.tight_layout()\n",
    "savefig('segnet-GSV-top-9-figure.png', dpi=400)"
   ]
  },
  {
   "cell_type": "code",
   "execution_count": null,
   "metadata": {
    "collapsed": false
   },
   "outputs": [],
   "source": [
    "cmp_comparison_files = [fn.strip() for fn in open('cmp_comparison_files.txt')]\n",
    "\n",
    "import os\n",
    "fig = figure(figsize=(9,9))\n",
    "plt.subplots_adjust(wspace=0)\n",
    "for i in range(9):\n",
    "    subplot(3,3,i+1)\n",
    "    cached = 'segnet-CMP-top-{}.png'.format(i+1)\n",
    "    #os.remove(cached)\n",
    "    if os.path.isfile(cached):\n",
    "        err_image = imread(cached)\n",
    "    else:\n",
    "        err_image = render_errors(cmp_comparison_files[i], alpha=0.6);\n",
    "        imsave(cached, err_image)\n",
    "    imshow(err_image)\n",
    "    xticks([]); yticks([]);\n",
    "    #xlabel(cached, fontsize=8)\n",
    "    fig.canvas.draw()\n",
    "fig.tight_layout()\n",
    "savefig('segnet-CMP-top-9-figure.png', dpi=400)"
   ]
  },
  {
   "cell_type": "code",
   "execution_count": null,
   "metadata": {
    "collapsed": false
   },
   "outputs": [],
   "source": []
  }
 ],
 "metadata": {
  "anaconda-cloud": {},
  "kernelspec": {
   "display_name": "Python [conda env:femiani]",
   "language": "python",
   "name": "conda-env-femiani-py"
  },
  "language_info": {
   "codemirror_mode": {
    "name": "ipython",
    "version": 2
   },
   "file_extension": ".py",
   "mimetype": "text/x-python",
   "name": "python",
   "nbconvert_exporter": "python",
   "pygments_lexer": "ipython2",
   "version": "2.7.12"
  }
 },
 "nbformat": 4,
 "nbformat_minor": 1
}
