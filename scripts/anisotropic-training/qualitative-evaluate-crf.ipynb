{
 "cells": [
  {
   "cell_type": "markdown",
   "metadata": {},
   "source": [
    "# Qualitatively Evaluate the net (after applying BN)"
   ]
  },
  {
   "cell_type": "markdown",
   "metadata": {},
   "source": [
    "> **NOTE:** After running BN it is a good idea to restart the kernel, etc. and make sure that the GPU RAM is not being hogged..."
   ]
  },
  {
   "cell_type": "code",
   "execution_count": null,
   "metadata": {},
   "outputs": [],
   "source": [
    "%pylab notebook\n",
    "!nvidia-smi"
   ]
  },
  {
   "cell_type": "code",
   "execution_count": null,
   "metadata": {},
   "outputs": [],
   "source": [
    "import caffe"
   ]
  },
  {
   "cell_type": "code",
   "execution_count": null,
   "metadata": {},
   "outputs": [],
   "source": [
    "import os"
   ]
  },
  {
   "cell_type": "code",
   "execution_count": null,
   "metadata": {},
   "outputs": [],
   "source": [
    "# EDIT this based on the results of nvidia-smi; \n",
    "#   -- Use the CPU if you do not have GPU available\n",
    "#   -- If you have multiple GPU's pick a free one\n",
    "caffe.set_mode_gpu()\n",
    "caffe.set_device(0)"
   ]
  },
  {
   "cell_type": "code",
   "execution_count": null,
   "metadata": {},
   "outputs": [],
   "source": [
    "# Right now, `download-model-weights.sh` puts the CRF weights in this location.\n",
    "# This location is not ideal; if it gets changed then clearly you will have to edit this cell.\n",
    "CRF_WEIGHTS = '../../crf-deploy/test_weights.caffemodel'"
   ]
  },
  {
   "cell_type": "code",
   "execution_count": null,
   "metadata": {},
   "outputs": [],
   "source": [
    "net = caffe.Net('crf_inference_net.prototxt', CRF_WEIGHTS, caffe.TEST)"
   ]
  },
  {
   "cell_type": "code",
   "execution_count": null,
   "metadata": {},
   "outputs": [],
   "source": [
    "EVAL_FILES = [fn.strip() for fn in open('/data/traintest/i12/fold_01/eval.txt')]"
   ]
  },
  {
   "cell_type": "code",
   "execution_count": null,
   "metadata": {},
   "outputs": [],
   "source": [
    "# EVAL_FILES moved on this system\n",
    "EVAL_FILES = [f.replace('data/training/independant_12_layers', '/data/traintest/i12') for f in EVAL_FILES]"
   ]
  },
  {
   "cell_type": "code",
   "execution_count": null,
   "metadata": {},
   "outputs": [],
   "source": [
    "ls *.caffemodel"
   ]
  },
  {
   "cell_type": "code",
   "execution_count": null,
   "metadata": {},
   "outputs": [],
   "source": [
    "from pyfacades.util import softmax"
   ]
  },
  {
   "cell_type": "code",
   "execution_count": null,
   "metadata": {},
   "outputs": [],
   "source": [
    "FEATURES = ['facade', 'window', 'door', 'cornice', 'sill', 'balcony', 'blind', 'deco', 'molding', 'pillar', 'shop']\n",
    "R1_WEIGHTS = 'test_weights_from_peihao.caffemodel' #'deploy/test_weights.caffemodel'\n",
    "R1_LAYOUT = 'modified-inference-net.prototxt'\n",
    "\n",
    "NEG = NEGATIVE = 0\n",
    "POS = POSITIVE = 2\n",
    "EDG = EDGE = 3\n",
    "\n",
    "import numpy as np\n",
    "import caffe\n",
    "init_net = caffe.Net(R1_LAYOUT, R1_WEIGHTS, caffe.TEST)\n",
    "\n",
    "# Set the batch size to one\n",
    "init_net.blobs['data'].reshape(1, 3, 512, 512)\n",
    "init_net.reshape()\n",
    "\n",
    "def priors(im):\n",
    "    \"\"\"\n",
    "    :param im: An input image, shape 3x512x512\n",
    "    :type im: np.ndarray\n",
    "    \"\"\"\n",
    "    result = init_net.forward(data=np.array([im[:3]]))\n",
    "    probs = [init_net.blobs['prob-{}'.format(feature)].data[0,(NEG,POS,EDG)] for feature in FEATURES]\n",
    "    probs = np.concatenate(probs, axis=0)\n",
    "    return probs\n",
    "\n",
    "def iterate(net):\n",
    "    probs = [softmax(net.blobs['conv-{}'.format(feature)].data[0,(0,2,3)]) for feature in FEATURES]\n",
    "    #probs = [net.blobs['prob-{}'.format(feature)].data[0,(NEG,POS,EDG)] for feature in FEATURES]\n",
    "    probs = np.concatenate(probs, axis=0)\n",
    "    net.blobs['data'].data[0,3:] = probs\n",
    "    result = net.forward(data=net.blobs['data'].data)\n",
    "    return result\n",
    "    \n",
    "def prepare(im, prior=None):\n",
    "    if prior is None:\n",
    "        prior = priors(im)\n",
    "    assert prior.shape == (len(FEATURES)*3, 512, 512)\n",
    "    concat = np.concatenate([im[:3], prior])\n",
    "    return np.array([concat])"
   ]
  },
  {
   "cell_type": "code",
   "execution_count": null,
   "metadata": {},
   "outputs": [],
   "source": [
    "def plot_iter(fig=None):\n",
    "    fig = fig or figure(figsize=(10,4))\n",
    "    subplot(131)\n",
    "    imshow(net.blobs['data'].data[0,:3].transpose(1,2,0)/255.)\n",
    "    axis('off')\n",
    "    subplot(132)\n",
    "    imshow(net.blobs['data'].data[0,:3].transpose(1,2,0)/255.)\n",
    "    imshow(net.blobs['prob-window'].data[0,2], alpha=0.65)\n",
    "    axis('off')\n",
    "    subplot(133)\n",
    "    imshow(net.blobs['prob-window'].data[0,2])\n",
    "    axis('off')\n",
    "    tight_layout()\n",
    "    fig.canvas.draw()"
   ]
  },
  {
   "cell_type": "code",
   "execution_count": null,
   "metadata": {},
   "outputs": [],
   "source": [
    "idx = 24\n",
    "data_with_targets = np.load(EVAL_FILES[idx])\n",
    "data, targets = data_with_targets[:3], data_with_targets[3:]"
   ]
  },
  {
   "cell_type": "code",
   "execution_count": null,
   "metadata": {},
   "outputs": [],
   "source": [
    "dirname = 'frame-image-{}'.format(idx)\n",
    "!mkdir -p {dirname}\n",
    "\n",
    "results = net.forward(data=prepare(data))\n",
    "fig = figure(figsize=(10,4))\n",
    "for i in range(1000):\n",
    "    iterate(net)\n",
    "    title('Iteratin {}'.format(i))\n",
    "    plot_iter(fig)\n",
    "    savefig(os.path.join(dirname, 'frame_{:05}'.format(i+1)))"
   ]
  },
  {
   "cell_type": "code",
   "execution_count": null,
   "metadata": {},
   "outputs": [],
   "source": [
    "!ffmpeg -i frame-image-{idx}/frame_%05d.png -vcodec libx264 -crf 25  -pix_fmt yuv420p  video-image-{idx}.mp4"
   ]
  },
  {
   "cell_type": "markdown",
   "metadata": {},
   "source": [
    "[This is the video](video-image-24.mp4)"
   ]
  },
  {
   "cell_type": "code",
   "execution_count": null,
   "metadata": {},
   "outputs": [],
   "source": []
  }
 ],
 "metadata": {
  "kernelspec": {
   "display_name": "Python 2",
   "language": "python",
   "name": "python2"
  },
  "language_info": {
   "codemirror_mode": {
    "name": "ipython",
    "version": 2
   },
   "file_extension": ".py",
   "mimetype": "text/x-python",
   "name": "python",
   "nbconvert_exporter": "python",
   "pygments_lexer": "ipython2",
   "version": "2.7.12"
  }
 },
 "nbformat": 4,
 "nbformat_minor": 2
}
