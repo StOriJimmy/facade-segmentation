{
 "cells": [
  {
   "cell_type": "markdown",
   "metadata": {},
   "source": [
    "# Export the learned weights as an NPZ\n",
    "\n",
    "The aim here is to be able to use the pretrained weights in other frameworks (like tensorflow)"
   ]
  },
  {
   "cell_type": "code",
   "execution_count": null,
   "metadata": {
    "collapsed": false
   },
   "outputs": [],
   "source": [
    "%pylab inline"
   ]
  },
  {
   "cell_type": "code",
   "execution_count": null,
   "metadata": {
    "collapsed": false
   },
   "outputs": [],
   "source": [
    "import caffe\n",
    "caffe.set_mode_cpu() #  No need to burden the GPU with this"
   ]
  },
  {
   "cell_type": "markdown",
   "metadata": {},
   "source": [
    "NOTE: We should use [BN-absorber.py](https://github.com/TimoSaemann/caffe-segnet-cudnn5/blob/master/scripts/BN-absorber.py) first perhaps?"
   ]
  },
  {
   "cell_type": "code",
   "execution_count": null,
   "metadata": {
    "collapsed": false
   },
   "outputs": [],
   "source": [
    "proto = 'modified-inference-net.prototxt'\n",
    "weights = 'deploy/test_weights.caffemodel'\n",
    "filename = 'weights.npz'"
   ]
  },
  {
   "cell_type": "code",
   "execution_count": null,
   "metadata": {
    "collapsed": false
   },
   "outputs": [],
   "source": [
    "net = caffe.Net(proto, weights, caffe.TEST)"
   ]
  },
  {
   "cell_type": "code",
   "execution_count": null,
   "metadata": {
    "collapsed": false
   },
   "outputs": [],
   "source": [
    "result = {}\n",
    "for param in net.params:\n",
    "    blobs = net.params[param]\n",
    "    if 'bn' in str(param):\n",
    "        result['{}/{}'.format(param.replace('-','_'), 'gamma')] = blobs[0].data\n",
    "        result['{}/{}'.format(param.replace('-','_'), 'beta')] = blobs[1].data\n",
    "    else:\n",
    "        result['{}/{}'.format(param.replace('-','_'), 'weights')] = blobs[0].data\n",
    "        result['{}/{}'.format(param.replace('-','_'), 'biases')] = blobs[1].data"
   ]
  },
  {
   "cell_type": "code",
   "execution_count": null,
   "metadata": {
    "collapsed": false
   },
   "outputs": [],
   "source": [
    "np.savez_compressed(filename, **result)"
   ]
  },
  {
   "cell_type": "code",
   "execution_count": null,
   "metadata": {
    "collapsed": false
   },
   "outputs": [],
   "source": [
    "for k in result:\n",
    "    print '{:32} mu:{:+07.4f}, std:{:+07.4f}'.format(k.ljust(32,'.'), result[k].mean(), result[k].std())"
   ]
  },
  {
   "cell_type": "code",
   "execution_count": null,
   "metadata": {
    "collapsed": false
   },
   "outputs": [],
   "source": [
    "#Test\n",
    "npfile = np.load(filename)\n",
    "\n",
    "for k in npfile:\n",
    "    print '{:32}{}'.format(k.ljust(32,'.'), np.allclose(npfile[k], result[k]))\n",
    "npfile.close()"
   ]
  },
  {
   "cell_type": "code",
   "execution_count": null,
   "metadata": {
    "collapsed": false
   },
   "outputs": [],
   "source": []
  }
 ],
 "metadata": {
  "kernelspec": {
   "display_name": "Python [conda env:femiani]",
   "language": "python",
   "name": "conda-env-femiani-py"
  },
  "language_info": {
   "codemirror_mode": {
    "name": "ipython",
    "version": 2
   },
   "file_extension": ".py",
   "mimetype": "text/x-python",
   "name": "python",
   "nbconvert_exporter": "python",
   "pygments_lexer": "ipython2",
   "version": "2.7.12"
  }
 },
 "nbformat": 4,
 "nbformat_minor": 1
}
