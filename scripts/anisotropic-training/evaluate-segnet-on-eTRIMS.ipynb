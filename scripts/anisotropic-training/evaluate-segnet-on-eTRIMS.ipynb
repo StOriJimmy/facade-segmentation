{
 "cells": [
  {
   "cell_type": "code",
   "execution_count": null,
   "metadata": {
    "collapsed": false
   },
   "outputs": [],
   "source": [
    "%pylab notebook"
   ]
  },
  {
   "cell_type": "markdown",
   "metadata": {},
   "source": [
    "# Evaluate the results of anisotropic training"
   ]
  },
  {
   "cell_type": "markdown",
   "metadata": {},
   "source": [
    "## Fetch the eTRIMS data to compare against"
   ]
  },
  {
   "cell_type": "code",
   "execution_count": null,
   "metadata": {
    "collapsed": false
   },
   "outputs": [],
   "source": [
    "import urllib2\n",
    "import zipfile\n",
    "import os\n",
    "import sys\n",
    "import numpy as np\n",
    "from glob import glob\n",
    "\n",
    "\n",
    "def download(url, ):\n",
    "    chunksize=2**20\n",
    "    output_path = os.path.basename(url)\n",
    "    with open(output_path, 'wb') as f:\n",
    "        g = urllib2.urlopen(url) \n",
    "        total = int(g.info().getheaders(\"Content-Length\")[0])\n",
    "        downloaded = 0\n",
    "        while True:\n",
    "            chunk = g.read(chunksize)\n",
    "            f.write(chunk)\n",
    "            downloaded += len(chunk)\n",
    "            sys.stdout.write('\\r {:3.2%} Read {:>16} of {:<16} bytes'.format( downloaded /float(total), downloaded, total))\n",
    "            sys.stdout.flush()\n",
    "            if len(chunk) < chunksize:\n",
    "                break\n",
    "    sys.stdout.write('\\n')\n",
    "    return output_path"
   ]
  },
  {
   "cell_type": "code",
   "execution_count": null,
   "metadata": {
    "collapsed": false
   },
   "outputs": [],
   "source": [
    "ETRIMS_URL_PATTERN = 'http://www.ipb.uni-bonn.de/projects/etrims_db/downloads/etrims-db_{}.zip'\n",
    "ETRIMS_URLS= [ETRIMS_URL_PATTERN.format(n) for n in 'v1','beta1', 'beta2']\n",
    "\n",
    "# !mkdir -p etrims\n",
    "# zipfile.ZipFile(download(ETRIMS_URLS[0])).extractall('etrims')\n",
    "# zipfile.ZipFile(download(ETRIMS_URLS[1])).extractall('etrims')\n",
    "# zipfile.ZipFile(download(ETRIMS_URLS[2])).extractall('etrims')\n",
    "# !rm etrims-db_beta2.zip   \n",
    "# !rm etrims-db_v1.zip\n",
    "# !rm etrims-db_beta1.zip"
   ]
  },
  {
   "cell_type": "code",
   "execution_count": null,
   "metadata": {
    "collapsed": false
   },
   "outputs": [],
   "source": [
    "from glob import glob\n",
    "etrims_images = glob('etrims/etrims-db_v1/images/08*/*.jpg')\n",
    "etrims_labels = [fn.replace('/images/', '/annotations/').replace('.jpg','.png') for fn in etrims_images]\n",
    "print len(etrims_images), \"images from etrims\""
   ]
  },
  {
   "cell_type": "code",
   "execution_count": null,
   "metadata": {
    "collapsed": false
   },
   "outputs": [],
   "source": [
    "from pyfacades.util.metrics import Metrics"
   ]
  },
  {
   "cell_type": "code",
   "execution_count": null,
   "metadata": {
    "collapsed": false
   },
   "outputs": [],
   "source": [
    "!nvidia-smi"
   ]
  },
  {
   "cell_type": "code",
   "execution_count": null,
   "metadata": {
    "collapsed": false
   },
   "outputs": [],
   "source": [
    "CPU = False\n",
    "import caffe\n",
    "if CPU:\n",
    "    caffe.set_mode_cpu()\n",
    "else:\n",
    "    caffe.set_mode_gpu()\n",
    "    caffe.set_device(0)"
   ]
  },
  {
   "cell_type": "code",
   "execution_count": null,
   "metadata": {
    "collapsed": false
   },
   "outputs": [],
   "source": [
    "import skimage.io\n",
    "from skimage.morphology import binary_dilation, binary_erosion, disk\n",
    "from skimage.transform import warp, ProjectiveTransform"
   ]
  },
  {
   "cell_type": "code",
   "execution_count": null,
   "metadata": {
    "collapsed": false
   },
   "outputs": [],
   "source": [
    "from pyfacades.rectify import Homography as AffaraRectifier"
   ]
  },
  {
   "cell_type": "code",
   "execution_count": null,
   "metadata": {
    "collapsed": false
   },
   "outputs": [],
   "source": [
    "from pyfacades.util import Metrics, softmax, channels_first, channels_last"
   ]
  },
  {
   "cell_type": "code",
   "execution_count": null,
   "metadata": {
    "collapsed": false
   },
   "outputs": [],
   "source": [
    "from pyfacades.models.driving_12x360x480 import process_strip as segment_driving"
   ]
  },
  {
   "cell_type": "code",
   "execution_count": null,
   "metadata": {
    "collapsed": false
   },
   "outputs": [],
   "source": [
    "import pyfacades.models.disjoint_5_labels as segnet"
   ]
  },
  {
   "cell_type": "code",
   "execution_count": null,
   "metadata": {
    "collapsed": false
   },
   "outputs": [],
   "source": [
    "from pyfacades.models.disjoint_5_labels.segment import process_strip"
   ]
  },
  {
   "cell_type": "markdown",
   "metadata": {},
   "source": [
    "## Put it all together "
   ]
  },
  {
   "cell_type": "raw",
   "metadata": {
    "collapsed": false
   },
   "source": [
    "%pdb on"
   ]
  },
  {
   "cell_type": "code",
   "execution_count": null,
   "metadata": {
    "collapsed": false
   },
   "outputs": [],
   "source": [
    "def get_metrics(f, vis=False, rectify=True):\n",
    "    # Read RGB, Labels from eTRIMS\n",
    "    idx = etrims_images.index(f)\n",
    "    rgb = skimage.io.imread(f)\n",
    "    labels = skimage.io.imread(etrims_labels[idx])\n",
    "    expected_windows = (labels == array([0,0,128])).all(2).astype(int)   \n",
    "    se = disk(2)\n",
    "    edges = binary_dilation(expected_windows, selem=se) & ~binary_erosion(expected_windows, selem=se)\n",
    "    expected_windows[edges] = 2\n",
    "    \n",
    "    # Rectify\n",
    "    presegment = segment_driving(channels_first(rgb))\n",
    "    mask = presegment.building() > 0.5\n",
    "    rectifier = AffaraRectifier(rgb, mask)\n",
    "\n",
    "    if rectify:    \n",
    "        rectified_rgb = rectifier.rectified\n",
    "        rectified_mask = rectifier.rectified_mask\n",
    "        rectified_labels = warp(labels, ProjectiveTransform(rectifier.H), preserve_range=True).astype(np.uint8)\n",
    "    else:\n",
    "        rectified_rgb = rgb/255.\n",
    "        rectified_mask = mask\n",
    "        rectified_labels = labels\n",
    "        \n",
    "    rectified_windows = (rectified_labels == array([0,0,128])).all(2)\n",
    "\n",
    "    # Predict / Inference\n",
    "    probs, confs = process_strip(channels_first(rectified_rgb*255))\n",
    "    rectified_prediction = probs[segnet.model.WINDOW]\n",
    "    \n",
    "    # Un-Rectify for comparison\n",
    "    if rectify:\n",
    "        prediction =  warp(rectified_prediction, ProjectiveTransform(rectifier.inv_H))\n",
    "    else:\n",
    "        prediction = rectified_prediction\n",
    "    predicted_windows = prediction > 0.5\n",
    "    #predicted_windows[~mask] = 0\n",
    "\n",
    "    mf = Metrics(expected=expected_windows, \n",
    "             predicted=predicted_windows, \n",
    "             label_positive=1,\n",
    "             label_negative=0,\n",
    "             source=f,\n",
    "             feature='window'\n",
    "            )\n",
    "    if vis:\n",
    "        clf()\n",
    "        subplot(321)\n",
    "        imshow(rgb)\n",
    "        axis('off')\n",
    "        subplot(322)\n",
    "        imshow(labels)\n",
    "        axis('off')\n",
    "        subplot(323)\n",
    "        imshow(expected_windows, vmin=0, vmax=2)\n",
    "        axis('off')\n",
    "        subplot(324)\n",
    "        imshow(predicted_windows, vmin=0, vmax=2)\n",
    "        axis('off')\n",
    "        subplot(325)\n",
    "        rectifier.plot_rectified()\n",
    "        title(None)\n",
    "        axis('off')\n",
    "        subplot(326)\n",
    "        imshow(prediction, vmin=0, vmax=1, cmap=cm.gray)\n",
    "        axis('off')\n",
    "\n",
    "        try:\n",
    "            suptitle('A:{}, P:{}, R:{}'.format(mf.pixel_accuracy, mf.pixel_precision, mf.pixel_recall))\n",
    "        except ZeroDivisionError:\n",
    "            pass\n",
    "\n",
    "    return mf, channels_first(rgb), expected_windows, predicted_windows"
   ]
  },
  {
   "cell_type": "code",
   "execution_count": null,
   "metadata": {
    "collapsed": false
   },
   "outputs": [],
   "source": [
    "figure(figsize=(8,8))\n",
    "mf, rgb, expected, predicted = get_metrics(etrims_images[12], vis=True,  rectify=True)"
   ]
  },
  {
   "cell_type": "code",
   "execution_count": null,
   "metadata": {
    "collapsed": false
   },
   "outputs": [],
   "source": [
    "import anydbm\n",
    "import json\n",
    "import hashlib\n",
    "import munch"
   ]
  },
  {
   "cell_type": "code",
   "execution_count": null,
   "metadata": {
    "collapsed": false
   },
   "outputs": [],
   "source": [
    "eval_results = anydbm.open('eval_segnet_based_on_etrims', 'c')\n",
    "checksum = hashlib.md5(open(segnet.model.WEIGHTS).read()).hexdigest()"
   ]
  },
  {
   "cell_type": "code",
   "execution_count": null,
   "metadata": {
    "collapsed": false
   },
   "outputs": [],
   "source": [
    "if 'md5' in eval_results and eval_results['md5'] == checksum:\n",
    "    print \"We already seem to have run evaluation...\""
   ]
  },
  {
   "cell_type": "code",
   "execution_count": null,
   "metadata": {
    "collapsed": false
   },
   "outputs": [],
   "source": [
    "len(etrims_images)"
   ]
  },
  {
   "cell_type": "code",
   "execution_count": null,
   "metadata": {
    "collapsed": false,
    "scrolled": false
   },
   "outputs": [],
   "source": [
    "\n",
    "recompute = False\n",
    "visualize = False\n",
    "\n",
    "if visualize:\n",
    "    fig = figure(figsize=(6,6))\n",
    "\n",
    "total = Metrics(feature='windows')\n",
    "for i, f in enumerate(etrims_images):   \n",
    "    if recompute or f not in eval_results:\n",
    "        mf, rgb, expected, predicted = get_metrics(i, visualize)\n",
    "        eval_results[f] = json.dumps(mf.as_dict())\n",
    "        if visualize:\n",
    "            try:\n",
    "                suptitle('{} of {}, $P$:{:.2%}, $R$:{:.2%}, $F_1$:{:.2%}, $A$:{:.2%}'.format(i, len(etrims_images), total.pixel_precision, total.pixel_recall, total.pixel_f1, total.pixel_accuracy))\n",
    "            except ZeroDivisionError:\n",
    "                suptitle(\"Not enough samples yet....\")         \n",
    "            fig.canvas.draw()\n",
    "    else:\n",
    "        mf = Metrics(**json.loads(eval_results[f]))\n",
    "    print '\\r{} of {}'.format(i, len(etrims_images)),\n",
    "    #print mf, \n",
    "    total += mf\n",
    "    #print total\n",
    "    \n",
    "print total"
   ]
  },
  {
   "cell_type": "markdown",
   "metadata": {},
   "source": [
    "# Qualitative Results"
   ]
  },
  {
   "cell_type": "code",
   "execution_count": null,
   "metadata": {
    "collapsed": false
   },
   "outputs": [],
   "source": [
    "%run -i color_coded_errors.py"
   ]
  },
  {
   "cell_type": "code",
   "execution_count": null,
   "metadata": {
    "collapsed": false
   },
   "outputs": [],
   "source": [
    "tag = 'segnet'\n",
    "db = 'eTRIMS'"
   ]
  },
  {
   "cell_type": "code",
   "execution_count": null,
   "metadata": {
    "collapsed": false
   },
   "outputs": [],
   "source": [
    "cmp_comparison_files = [fn.strip() for fn in open('eTRIMS_comparison_files.txt')]\n",
    "\n",
    "import os\n",
    "fig = figure(figsize=(9,9))\n",
    "plt.subplots_adjust(wspace=0)\n",
    "for i in range(9):\n",
    "    subplot(3,3,i+1)\n",
    "    cached = '{}-{}-top-{}.png'.format(tag, db, i+1)\n",
    "    #os.remove(cached)\n",
    "    if os.path.isfile(cached):\n",
    "        err_image = imread(cached)\n",
    "    else:\n",
    "        err_image = render_errors(cmp_comparison_files[i], alpha=0.6);\n",
    "        imsave(cached, err_image)\n",
    "    imshow(err_image)\n",
    "    xticks([]); yticks([]);\n",
    "    #xlabel(cached, fontsize=8)\n",
    "    fig.canvas.draw()\n",
    "fig.tight_layout()\n",
    "savefig('{}-{}-top-9-figure.png'.format(tag, db), dpi=400)"
   ]
  },
  {
   "cell_type": "code",
   "execution_count": null,
   "metadata": {
    "collapsed": false
   },
   "outputs": [],
   "source": []
  },
  {
   "cell_type": "code",
   "execution_count": null,
   "metadata": {
    "collapsed": false
   },
   "outputs": [],
   "source": []
  },
  {
   "cell_type": "code",
   "execution_count": null,
   "metadata": {
    "collapsed": false
   },
   "outputs": [],
   "source": []
  },
  {
   "cell_type": "code",
   "execution_count": null,
   "metadata": {
    "collapsed": false
   },
   "outputs": [],
   "source": [
    "accuracies = [Metrics(**json.loads(eval_results[f])).pixel_recall for f in etrims_images]\n",
    "argworst = argsort(accuracies)\n",
    "worst = array(etrims_images)[argworst]\n",
    "worst_indices = [etrims_images.index(k) for k in worst]"
   ]
  },
  {
   "cell_type": "code",
   "execution_count": null,
   "metadata": {
    "collapsed": false
   },
   "outputs": [],
   "source": [
    "figure()\n",
    "plot(array(accuracies)[argworst]);"
   ]
  },
  {
   "cell_type": "code",
   "execution_count": null,
   "metadata": {
    "collapsed": false
   },
   "outputs": [],
   "source": []
  },
  {
   "cell_type": "code",
   "execution_count": null,
   "metadata": {
    "collapsed": false
   },
   "outputs": [],
   "source": [
    "figure(figsize=(8, 16))\n",
    "result = get_metrics(worst_indices[-1])\n",
    "subplot(321); title('original')\n",
    "subplot(322); title('label-colors')\n",
    "subplot(323); title('expected')\n",
    "subplot(324); title('predicted')\n",
    "subplot(325); title('rectified')\n",
    "subplot(326); title('$\\Pr[\\text{window}]$')\n",
    "savefig('worst_example.png', dpi=300)"
   ]
  },
  {
   "cell_type": "code",
   "execution_count": null,
   "metadata": {
    "collapsed": false
   },
   "outputs": [],
   "source": [
    "figure(figsize=(8, 16))\n",
    "result = get_metrics(worst_indices[0])\n",
    "subplot(321); title('original')\n",
    "subplot(322); title('label-colors')\n",
    "subplot(323); title('expected')\n",
    "subplot(324); title('predicted')\n",
    "subplot(325); title('rectified')\n",
    "subplot(326); title('$\\Pr[\\text{window}]$')\n",
    "savefig('worst_example.png', dpi=300)"
   ]
  },
  {
   "cell_type": "code",
   "execution_count": null,
   "metadata": {
    "collapsed": false
   },
   "outputs": [],
   "source": [
    "figure(figsize=(4, 8))\n",
    "result = get_metrics(worst_indices[1])\n",
    "subplot(321); title('original')\n",
    "subplot(322); title('label-colors')\n",
    "subplot(323); title('expected')\n",
    "subplot(324); title('predicted')\n",
    "subplot(325); title('rectified')\n",
    "subplot(326); title('$\\Pr[\\text{window}]$')"
   ]
  },
  {
   "cell_type": "code",
   "execution_count": null,
   "metadata": {
    "collapsed": false
   },
   "outputs": [],
   "source": [
    "figure(figsize=(4, 8))\n",
    "result = get_metrics(worst_indices[2])\n",
    "subplot(321); title('original')\n",
    "subplot(322); title('label-colors')\n",
    "subplot(323); title('expected')\n",
    "subplot(324); title('predicted')\n",
    "subplot(325); title('rectified')\n",
    "subplot(326); title('$\\Pr[\\text{window}]$')"
   ]
  },
  {
   "cell_type": "code",
   "execution_count": null,
   "metadata": {
    "collapsed": false
   },
   "outputs": [],
   "source": []
  }
 ],
 "metadata": {
  "anaconda-cloud": {},
  "kernelspec": {
   "display_name": "Python [conda env:femiani]",
   "language": "python",
   "name": "conda-env-femiani-py"
  },
  "language_info": {
   "codemirror_mode": {
    "name": "ipython",
    "version": 2
   },
   "file_extension": ".py",
   "mimetype": "text/x-python",
   "name": "python",
   "nbconvert_exporter": "python",
   "pygments_lexer": "ipython2",
   "version": "2.7.12"
  }
 },
 "nbformat": 4,
 "nbformat_minor": 1
}
