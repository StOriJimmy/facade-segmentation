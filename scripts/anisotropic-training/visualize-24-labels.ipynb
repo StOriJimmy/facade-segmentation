{
 "cells": [
  {
   "cell_type": "markdown",
   "metadata": {},
   "source": [
    "# Visualize and Evaluate all 24 Labels"
   ]
  },
  {
   "cell_type": "code",
   "execution_count": null,
   "metadata": {},
   "outputs": [],
   "source": [
    "%pylab inline\n",
    "from glob import glob\n",
    "import os"
   ]
  },
  {
   "cell_type": "code",
   "execution_count": null,
   "metadata": {
    "collapsed": false
   },
   "outputs": [],
   "source": [
    "DATA_ROOT = './data/aeriels-24class/'"
   ]
  },
  {
   "cell_type": "code",
   "execution_count": null,
   "metadata": {
    "collapsed": false
   },
   "outputs": [],
   "source": [
    "files = glob(os.path.join(DATA_ROOT, '*', '*', '*.npz'))"
   ]
  },
  {
   "cell_type": "code",
   "execution_count": null,
   "metadata": {},
   "outputs": [],
   "source": [
    "# %load new_feature_names_ordered.py\n",
    "FEATURES=[\n",
    " u'unlabeled', # s/negative/unlabeled for all above\n",
    " u'sky',\n",
    " u'facade',\n",
    " u'bay',\n",
    " u'deco',\n",
    " u'door',\n",
    " #u'fire escape',\n",
    " u'roof',\n",
    " u'sign',\n",
    " u'window',\n",
    " u'air_conditioner',\n",
    " u'shop',\n",
    " u'pillar',\n",
    " u'cornice',\n",
    " u'sill',\n",
    " u'molding',\n",
    " u'ledge',\n",
    " u'balcony',\n",
    " u'fire_escape_balcony',\n",
    " u'fire_escape_ladder',\n",
    " u'flag',\n",
    " u'awning',\n",
    " u'obstruction',  # --> s/negative/unlabeled for all below\n",
    " u'tree',\n",
    " u'negative',     # --> s/*/negative for all below\n",
    "]"
   ]
  },
  {
   "cell_type": "code",
   "execution_count": null,
   "metadata": {
    "collapsed": false
   },
   "outputs": [],
   "source": [
    "COLORS = cm.hsv(linspace(0, .7, len(FEATURES)))\n",
    "COLORS[FEATURES.index('facade')][3] = 0"
   ]
  },
  {
   "cell_type": "markdown",
   "metadata": {},
   "source": [
    "[python code](/edit/src/scripts/anisotropic-training/visualize_labels.py)"
   ]
  },
  {
   "cell_type": "code",
   "execution_count": null,
   "metadata": {},
   "outputs": [],
   "source": [
    "%run -i visualize_labels.py"
   ]
  },
  {
   "cell_type": "code",
   "execution_count": null,
   "metadata": {
    "scrolled": false
   },
   "outputs": [],
   "source": [
    "figsize(15,15)\n",
    "path = random.choice(files)\n",
    "visualize_expected(path, legend_width=0.5)\n",
    "title(path)"
   ]
  },
  {
   "cell_type": "code",
   "execution_count": null,
   "metadata": {
    "collapsed": false
   },
   "outputs": [],
   "source": []
  }
 ],
 "metadata": {
  "kernelspec": {
   "display_name": "Python [conda env:femiani]",
   "language": "python",
   "name": "conda-env-femiani-py"
  },
  "language_info": {
   "codemirror_mode": {
    "name": "ipython",
    "version": 2
   },
   "file_extension": ".py",
   "mimetype": "text/x-python",
   "name": "python",
   "nbconvert_exporter": "python",
   "pygments_lexer": "ipython2",
   "version": "2.7.12"
  }
 },
 "nbformat": 4,
 "nbformat_minor": 1
}
