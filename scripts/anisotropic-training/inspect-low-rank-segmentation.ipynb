{
 "cells": [
  {
   "cell_type": "markdown",
   "metadata": {},
   "source": [
    "# This Notebook Inspects the Anisotropic Classifier\n",
    "\n",
    "The anistotropic version of the classifier uses alternating horizontal and vertical 1D convolutions instead of 2D convolutions in the decoding phase of a segnet. \n",
    "\n",
    "- The notebook that modifies the _facade-segnet_ net is [modify-segnet-for-anisotropy.ipynb](anisotropic-training/modify-segnet-for-anisotropy.ipynb)\n",
    "- I have made a notebook to help me visualize progress as I train, if is [train_using_jupyter.ipynb](train_using_jupyter.ipynb)\n",
    "- After you have funished training, this notebook will allow you to inspect the net.\n",
    "\n",
    "---\n",
    "> **NOTE** When trianing I have my data in an external, larger hard drive. This gives me enough storage to hold many snapshots of the classifier as well as preprocessed imagery for traiing. I use a soft-link so that the extranl drive appears to be part of the project. \n",
    "\n",
    "---\n",
    "> **NOTE:** Do not try to use more than one net at a time on the same GPU, use Kernel->Restart"
   ]
  },
  {
   "cell_type": "code",
   "execution_count": null,
   "metadata": {
    "collapsed": false
   },
   "outputs": [],
   "source": [
    "%pylab notebook"
   ]
  },
  {
   "cell_type": "markdown",
   "metadata": {},
   "source": [
    "In order to use this we need a little of 4Gb of GPU RAM available\n",
    "If some other process is using it, we need to stop them..."
   ]
  },
  {
   "cell_type": "code",
   "execution_count": null,
   "metadata": {
    "collapsed": false
   },
   "outputs": [],
   "source": [
    "!nvidia-smi\n",
    "#!kill 10140"
   ]
  },
  {
   "cell_type": "code",
   "execution_count": null,
   "metadata": {
    "collapsed": false
   },
   "outputs": [],
   "source": [
    "cd ../.."
   ]
  },
  {
   "cell_type": "code",
   "execution_count": null,
   "metadata": {
    "collapsed": false
   },
   "outputs": [],
   "source": [
    "import os\n",
    "sys.path.insert(0, os.path.abspath('./scripts/anisotropic-training'))"
   ]
  },
  {
   "cell_type": "code",
   "execution_count": null,
   "metadata": {
    "collapsed": false
   },
   "outputs": [],
   "source": [
    "NET_WEIGHTS = 'scripts/anisotropic-training/deploy/test_weights.caffemodel'\n",
    "#NET_WEIGHTS = 'scripts/anisotropic-training/tn.caffemodel'\n",
    "#NET_WEIGHTS='/home/shared/Projects/Facades/mybook/anisotropic/anisotropic_facades_iter_50000.caffemodel'\n",
    "NET_LAYOUT = 'scripts/anisotropic-training/modified-inference-net.prototxt'"
   ]
  },
  {
   "cell_type": "code",
   "execution_count": null,
   "metadata": {
    "collapsed": false
   },
   "outputs": [],
   "source": [
    "import traceback"
   ]
  },
  {
   "cell_type": "code",
   "execution_count": null,
   "metadata": {
    "collapsed": false
   },
   "outputs": [],
   "source": [
    "import caffe\n",
    "caffe.set_device(0)\n",
    "caffe.set_mode_gpu()"
   ]
  },
  {
   "cell_type": "code",
   "execution_count": null,
   "metadata": {
    "collapsed": false
   },
   "outputs": [],
   "source": [
    "import warnings"
   ]
  },
  {
   "cell_type": "code",
   "execution_count": null,
   "metadata": {
    "collapsed": false
   },
   "outputs": [],
   "source": [
    "with warnings.catch_warnings():\n",
    "    warnings.filterwarnings(action='ignore')\n",
    "    net = caffe.Net(NET_LAYOUT, NET_WEIGHTS, caffe.TEST)"
   ]
  },
  {
   "cell_type": "code",
   "execution_count": null,
   "metadata": {
    "collapsed": false
   },
   "outputs": [],
   "source": [
    "with warnings.catch_warnings():\n",
    "    warnings.filterwarnings(action='ignore')\n",
    "    net2 = caffe.Net('scripts/anisotropic-training/modified-training-net.prototxt', NET_WEIGHTS, caffe.TEST)"
   ]
  },
  {
   "cell_type": "code",
   "execution_count": null,
   "metadata": {
    "collapsed": false
   },
   "outputs": [],
   "source": [
    "for param in net.params:\n",
    "    for i in range(len(net.params[param])):\n",
    "        a = net.params[param][i].data\n",
    "        b = net.params[param][i].data\n",
    "        print param,i, np.allclose(a,b)       "
   ]
  },
  {
   "cell_type": "code",
   "execution_count": null,
   "metadata": {
    "collapsed": false
   },
   "outputs": [],
   "source": [
    "net2.forward()"
   ]
  },
  {
   "cell_type": "code",
   "execution_count": null,
   "metadata": {
    "collapsed": false
   },
   "outputs": [],
   "source": [
    "data=repeat(net2.blobs['data'].data, 3, 0)\n",
    "print data.shape"
   ]
  },
  {
   "cell_type": "code",
   "execution_count": null,
   "metadata": {
    "collapsed": false
   },
   "outputs": [],
   "source": [
    "labels = net.forward(data=data)"
   ]
  },
  {
   "cell_type": "code",
   "execution_count": null,
   "metadata": {
    "collapsed": false
   },
   "outputs": [],
   "source": [
    "from __future__ import division\n",
    "x = 1\n",
    "x/2"
   ]
  },
  {
   "cell_type": "code",
   "execution_count": null,
   "metadata": {
    "collapsed": false
   },
   "outputs": [],
   "source": [
    "def compare_activations(a1, a2, rows=10, cols=10, hpad=0.01):\n",
    "    for r in range(rows):\n",
    "        for c in range(cols):\n",
    "            i = r*cols + c\n",
    "            if i >= len(a1) or i >= len(a2):\n",
    "                continue\n",
    "            \n",
    "            \n",
    "            rleft = ( c/cols+hpad/2.,  (rows-r-1)/rows,     0.5/cols-hpad/2., 1./rows)\n",
    "            rright = ((c+0.5)/cols,    (rows-r-1)/rows,     0.5/cols-hpad/2., 1./rows)\n",
    "            left = axes(rleft)\n",
    "            right = axes(rright)\n",
    "            #print rleft\n",
    "            \n",
    "            eps = 0.001\n",
    "            left.imshow((a1[i]-a1[i].mean())/(a1[i].std()+eps))\n",
    "            left.set_xticks([]); left.set_yticks([]); left.set_xlabel('a{}'.format(i))\n",
    "            right.imshow((a2[i]-a2[i].mean())/(a2[i].std()+eps))\n",
    "            right.set_xticks([]); right.set_yticks([]); right.set_xlabel('b{}'.format(i))"
   ]
  },
  {
   "cell_type": "code",
   "execution_count": null,
   "metadata": {
    "collapsed": false
   },
   "outputs": [],
   "source": [
    "figure(figsize=(10,10))\n",
    "compare_activations(net.blobs['conv1_1'].data[0], net2.blobs['conv1_1'].data[0])"
   ]
  },
  {
   "cell_type": "code",
   "execution_count": null,
   "metadata": {
    "collapsed": false
   },
   "outputs": [],
   "source": [
    "from glob import glob\n",
    "files = glob('data/training/independant_12_layers/ours/npy/*.npy')"
   ]
  },
  {
   "cell_type": "code",
   "execution_count": null,
   "metadata": {
    "collapsed": false
   },
   "outputs": [],
   "source": [
    "index = random.choice(len(files))"
   ]
  },
  {
   "cell_type": "code",
   "execution_count": null,
   "metadata": {
    "collapsed": false
   },
   "outputs": [],
   "source": [
    "im = np.load(files[index])"
   ]
  },
  {
   "cell_type": "code",
   "execution_count": null,
   "metadata": {
    "collapsed": false
   },
   "outputs": [],
   "source": [
    "files[index]"
   ]
  },
  {
   "cell_type": "code",
   "execution_count": null,
   "metadata": {
    "collapsed": false
   },
   "outputs": [],
   "source": [
    "from pyfacades.util import channels_first, channels_last\n",
    "figure()\n",
    "imshow(channels_last(im[:3].astype(np.uint8)))"
   ]
  },
  {
   "cell_type": "code",
   "execution_count": null,
   "metadata": {
    "collapsed": false
   },
   "outputs": [],
   "source": [
    "NEGATIVE=0\n",
    "POSITIVE=2\n",
    "EDGE = 3"
   ]
  },
  {
   "cell_type": "code",
   "execution_count": null,
   "metadata": {
    "collapsed": false
   },
   "outputs": [],
   "source": [
    "from pyfacades.util import softmax"
   ]
  },
  {
   "cell_type": "code",
   "execution_count": null,
   "metadata": {
    "collapsed": false
   },
   "outputs": [],
   "source": [
    "figure()\n",
    "index = random.choice(len(files))\n",
    "im = np.load(files[index])\n",
    "result = net.forward(blobs=['prob-window'], data=array([im[:3].copy(), im[:3].copy(), im[:3].copy()]))\n",
    "\n",
    "subplot(121)\n",
    "imshow(channels_last(im[:3])/255.)\n",
    "xticks([]); yticks([])\n",
    "xlabel('source')\n",
    "subplot(122)\n",
    "#imshow(net.blobs['prob-window'].data.mean(0)[POSITIVE],  vmin=0, vmax=1, cmap=cm.gray)\n",
    "imshow(net.blobs['prob-window'].data[0][POSITIVE],  vmin=0, vmax=1, cmap=cm.gray)\n",
    "\n",
    "xticks([]); yticks([]); xlabel('prob-windows')"
   ]
  },
  {
   "cell_type": "code",
   "execution_count": null,
   "metadata": {
    "collapsed": false
   },
   "outputs": [],
   "source": []
  }
 ],
 "metadata": {
  "anaconda-cloud": {},
  "kernelspec": {
   "display_name": "Python [conda env:femiani]",
   "language": "python",
   "name": "conda-env-femiani-py"
  },
  "language_info": {
   "codemirror_mode": {
    "name": "ipython",
    "version": 2
   },
   "file_extension": ".py",
   "mimetype": "text/x-python",
   "name": "python",
   "nbconvert_exporter": "python",
   "pygments_lexer": "ipython2",
   "version": "2.7.12"
  }
 },
 "nbformat": 4,
 "nbformat_minor": 1
}
