{
 "cells": [
  {
   "cell_type": "markdown",
   "metadata": {},
   "source": [
    "# Process for Training the Low-Rank Net"
   ]
  },
  {
   "cell_type": "markdown",
   "metadata": {},
   "source": [
    "\n",
    "- Prepare appropriately sized and peprocessed training data usine [this notebook](generate-training-data.ipynb)\n",
    "\n",
    "- _[Optional]_ Modify the prototext files for training [using this notebook](modify-segnet-for-anisotropy.ipynb).\n",
    "\n",
    "- Train the net either using *shell scripts*, or with visualizations in [this notebook](train_using_jupyter.ipynb). \n",
    "\n",
    "- Stop training, make sure no other script is using the GPU, then visually inspect the net with [this notebook](inspect_aniso_segmentation.ipynb)\n",
    "\n",
    "- **TODO**: Do a quantitative evaluation of the net on test data using [this notebook](TBD)\n",
    "- Generate Figures for a paper:\n",
    "  - **TODO**: Figure 1 is in [this notebook](TBD)\n",
    "  - ..."
   ]
  },
  {
   "cell_type": "code",
   "execution_count": null,
   "metadata": {
    "collapsed": false
   },
   "outputs": [],
   "source": []
  }
 ],
 "metadata": {
  "anaconda-cloud": {},
  "kernelspec": {
   "display_name": "Python [conda env:femiani]",
   "language": "python",
   "name": "conda-env-femiani-py"
  },
  "language_info": {
   "codemirror_mode": {
    "name": "ipython",
    "version": 2
   },
   "file_extension": ".py",
   "mimetype": "text/x-python",
   "name": "python",
   "nbconvert_exporter": "python",
   "pygments_lexer": "ipython2",
   "version": "2.7.12"
  }
 },
 "nbformat": 4,
 "nbformat_minor": 1
}
