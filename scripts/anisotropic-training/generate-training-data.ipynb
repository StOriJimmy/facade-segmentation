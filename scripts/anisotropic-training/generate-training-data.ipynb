{
 "cells": [
  {
   "cell_type": "markdown",
   "metadata": {},
   "source": [
    "# Generate Data for Training"
   ]
  },
  {
   "cell_type": "markdown",
   "metadata": {},
   "source": [
    "Before running this notebook, grab the LabelMe data from [https://vision.csi.miamioh.edu/labelme.zip](https://vision.csi.miamioh.edu/labelme.zip) and extract it somewhere. \n",
    "> *NOTE:* I prefer to put my data on a large external drive and then soft-link it to a local 'data' folder. For example \n",
    "```bash\n",
    "ln -s /media/${USER}/external-drive/data ./data\n",
    "```"
   ]
  },
  {
   "cell_type": "markdown",
   "metadata": {},
   "source": [
    "The next cell **will fail** on your system, replace the paths to the labelme INPUT and the data OUTPUT with the paths to folders on your own system (e.g. a large drive)"
   ]
  },
  {
   "cell_type": "code",
   "execution_count": null,
   "metadata": {
    "collapsed": false
   },
   "outputs": [],
   "source": [
    "!ln -sf \"/media/femianjc/My Book/independant_12_layers/data/training/\" ./data\n",
    "!ln -sf \"/media/femianjc/My Book/labelme/\" ./labelme"
   ]
  },
  {
   "cell_type": "markdown",
   "metadata": {},
   "source": [
    "Each image has a corresponding XML file. \n",
    "My script to produce training data takes in list of XML files, let's generate a comprehensive list..."
   ]
  },
  {
   "cell_type": "code",
   "execution_count": null,
   "metadata": {
    "collapsed": false
   },
   "outputs": [],
   "source": [
    "%%bash\n",
    "pushd ./labelme/Annotations/ >/dev/null\n",
    "ls -1 */*.xml > files.txt\n",
    "popd >/dev/null\n",
    "mv labelme/Annotations/files.txt .\n",
    "echo Found $(cat files.txt | wc -l) files...\n",
    "echo\n",
    "head files.txt\n",
    "echo ...\n",
    "tail files.txt"
   ]
  },
  {
   "cell_type": "markdown",
   "metadata": {},
   "source": [
    "Okay, so when I produced the data for the labelers I highlighted the part of the image I wanted them to label. As a result, the labelme tool may have recorded the path to the highlighted image instead of the original, so we will want to fix that. "
   ]
  },
  {
   "cell_type": "code",
   "execution_count": null,
   "metadata": {
    "collapsed": false
   },
   "outputs": [],
   "source": [
    "%pylab notebook\n",
    "import os"
   ]
  },
  {
   "cell_type": "code",
   "execution_count": null,
   "metadata": {
    "collapsed": false
   },
   "outputs": [],
   "source": [
    "xml = 'facades-2017-07-21/honolulu_hawaii-002943-000004-8HfFc2j4u0BaBAaaYeNy1w-facade-01-highlighted.xml'\n",
    "hl_jpg = os.path.join('labelme/Images', xml.replace('.xml', '.jpg'))\n",
    "nohl_jpg = hl_jpg.replace('highlighted', 'original')\n",
    "mask_jpg = hl_jpg.replace('highlighted', 'mask')\n",
    "\n",
    "figsize(10, 5)\n",
    "subplot(221)\n",
    "imshow(imread(nohl_jpg))\n",
    "title(\"No highlights\")\n",
    "subplot(222)\n",
    "imshow(imread(hl_jpg))\n",
    "title(\"Highlighted\")\n",
    "subplot(223)\n",
    "imshow(imread(mask_jpg))\n",
    "title(\"Mask\")\n",
    "show()"
   ]
  },
  {
   "cell_type": "markdown",
   "metadata": {},
   "source": [
    "It may be difficult to tell, but the images above are the result of the following process:\n",
    "1. I asked the labelers to outline the dominant, camera-facing facades (within 15 deg). \n",
    "2. I automatically calculated the homography using the approach of [Affara et al](TBD).\n",
    "3. I warpedthe image and rendered out the (supposedly rectified) images shown in the figure above. \n",
    "4. The labelers continued labeling features in the (supposedly rectified) images."
   ]
  },
  {
   "cell_type": "markdown",
   "metadata": {},
   "source": [
    "## Replace 'highlighted' by 'original' XML's"
   ]
  },
  {
   "cell_type": "markdown",
   "metadata": {},
   "source": [
    "**ALERT: ** I have **already backed up** my data so I feel comfortable modifying this in-place. You should consider doing the same. "
   ]
  },
  {
   "cell_type": "code",
   "execution_count": null,
   "metadata": {
    "collapsed": false
   },
   "outputs": [],
   "source": [
    "xmls = [os.path.join('labelme/Annotations', xml.strip()) for xml in open('files.txt').readlines()]"
   ]
  },
  {
   "cell_type": "code",
   "execution_count": null,
   "metadata": {
    "collapsed": false
   },
   "outputs": [],
   "source": [
    "for i, xml in enumerate(xmls):\n",
    "    if 'highlighted' in xml:\n",
    "        contents = open(xml).read().replace('highlighted', 'original')\n",
    "        xmls[i] = xml.replace('highlighted', 'original')\n",
    "        with open(xmls[i], 'w') as f:\n",
    "            f.write(contents)\n",
    "    print '\\r{: 3} of {}'.format(i+1, len(xmls)),"
   ]
  },
  {
   "cell_type": "code",
   "execution_count": null,
   "metadata": {
    "collapsed": false
   },
   "outputs": [],
   "source": [
    "with open('files.txt', 'w') as f:\n",
    "    f.writelines([os.path.relpath(xml, 'labelme/Annotations') + '\\n' for xml in xmls])\n",
    "print \"Updated files.txt\""
   ]
  },
  {
   "cell_type": "code",
   "execution_count": null,
   "metadata": {
    "collapsed": false
   },
   "outputs": [],
   "source": [
    "!tail files.txt"
   ]
  },
  {
   "cell_type": "markdown",
   "metadata": {},
   "source": [
    "# Generate Prepared Training Data"
   ]
  },
  {
   "cell_type": "code",
   "execution_count": null,
   "metadata": {
    "collapsed": false
   },
   "outputs": [],
   "source": [
    "!mkdir -p ./data/labelme-out"
   ]
  },
  {
   "cell_type": "markdown",
   "metadata": {},
   "source": [
    "**NOTE: ** This next script outputs only the labels used by the i12 classifier. I have additional labels to use but at this point in time I am not producing them...."
   ]
  },
  {
   "cell_type": "markdown",
   "metadata": {},
   "source": [
    "**NOTE:** This next script will take FOREVER, so before we run it I think we want to work out some things...\n",
    "   - Crop in to the largest facade in the image, so we do not waste training time\n",
    "   - Add some extra labels "
   ]
  },
  {
   "cell_type": "code",
   "execution_count": null,
   "metadata": {
    "collapsed": false,
    "scrolled": false
   },
   "outputs": [],
   "source": [
    "figure(figsize=(24,18))\n",
    "%run -m pyfacades.models.independant_12_layers.import_labelme -- --plot --from-labelme=./labelme --files files.txt --ignore=background -o ./data/labelme-out --resume"
   ]
  },
  {
   "cell_type": "code",
   "execution_count": null,
   "metadata": {
    "collapsed": false
   },
   "outputs": [],
   "source": []
  }
 ],
 "metadata": {
  "anaconda-cloud": {},
  "kernelspec": {
   "display_name": "Python [conda env:femiani]",
   "language": "python",
   "name": "conda-env-femiani-py"
  },
  "language_info": {
   "codemirror_mode": {
    "name": "ipython",
    "version": 2
   },
   "file_extension": ".py",
   "mimetype": "text/x-python",
   "name": "python",
   "nbconvert_exporter": "python",
   "pygments_lexer": "ipython2",
   "version": "2.7.12"
  }
 },
 "nbformat": 4,
 "nbformat_minor": 1
}
