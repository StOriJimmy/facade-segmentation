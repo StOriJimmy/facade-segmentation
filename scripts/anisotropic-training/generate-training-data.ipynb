{
 "cells": [
  {
   "cell_type": "code",
   "execution_count": null,
   "metadata": {
    "collapsed": false
   },
   "outputs": [],
   "source": [
    "%pylab notebook\n",
    "import os"
   ]
  },
  {
   "cell_type": "markdown",
   "metadata": {},
   "source": [
    "# Generate Data for Training"
   ]
  },
  {
   "cell_type": "markdown",
   "metadata": {},
   "source": [
    "Before running this notebook, grab the LabelMe data from [https://vision.csi.miamioh.edu/labelme.zip](https://vision.csi.miamioh.edu/labelme.zip) and extract it somewhere. \n",
    "> *NOTE:* I prefer to put my data on a large external drive and then soft-link it to a local 'data' folder. For example \n",
    "```bash\n",
    "ln -s /media/${USER}/external-drive/data ./data\n",
    "```"
   ]
  },
  {
   "cell_type": "markdown",
   "metadata": {},
   "source": [
    "The next cell **will fail** on your system, replace the paths to the labelme INPUT and the data OUTPUT with the paths to folders on your own system (e.g. a large drive)"
   ]
  },
  {
   "cell_type": "raw",
   "metadata": {
    "collapsed": false
   },
   "source": [
    "!ln -sf \"/media/femianjc/My Book/independant_12_layers/data/training/\" ./data\n",
    "!ln -sf \"/media/femianjc/My Book/labelme/\" ./labelme"
   ]
  },
  {
   "cell_type": "markdown",
   "metadata": {},
   "source": [
    "Each image has a corresponding XML file. \n",
    "My script to produce training data takes in list of XML files, let's generate a comprehensive list..."
   ]
  },
  {
   "cell_type": "code",
   "execution_count": null,
   "metadata": {
    "collapsed": false
   },
   "outputs": [],
   "source": [
    "from glob import glob\n",
    "import os"
   ]
  },
  {
   "cell_type": "markdown",
   "metadata": {},
   "source": [
    "I often want to plot without seeing the _x_ and _y_ axis ticks, since I know all of my images dimensions. "
   ]
  },
  {
   "cell_type": "code",
   "execution_count": null,
   "metadata": {
    "collapsed": false
   },
   "outputs": [],
   "source": [
    "def noticks():\n",
    "    \"\"\"I keep typing these two lines in plots -- time to make a function\"\"\"\n",
    "    xticks([])\n",
    "    yticks([])"
   ]
  },
  {
   "cell_type": "markdown",
   "metadata": {},
   "source": [
    "Okay, so when I produced the data for the labelers I highlighted the part of the image I wanted them to label. As a result, the labelme tool may have recorded the path to the highlighted image instead of the original, so we will want to fix that. "
   ]
  },
  {
   "cell_type": "code",
   "execution_count": null,
   "metadata": {
    "collapsed": false
   },
   "outputs": [],
   "source": [
    "xml = 'facades-2017-07-21/honolulu_hawaii-002943-000004-8HfFc2j4u0BaBAaaYeNy1w-facade-01-highlighted.xml'\n",
    "hl_jpg = os.path.join('labelme/Images', xml.replace('.xml', '.jpg'))\n",
    "nohl_jpg = hl_jpg.replace('highlighted', 'original')\n",
    "mask_jpg = hl_jpg.replace('highlighted', 'mask')\n",
    "\n",
    "figure()\n",
    "figsize(10, 5)\n",
    "\n",
    "subplot(221)\n",
    "imshow(imread(nohl_jpg))\n",
    "noticks()\n",
    "title(\"No highlights\", fontsize=10)\n",
    "\n",
    "subplot(222)\n",
    "imshow(imread(hl_jpg))\n",
    "noticks()\n",
    "title(\"Highlighted\", fontsize=10)\n",
    "\n",
    "subplot(223)\n",
    "imshow(imread(mask_jpg))\n",
    "noticks()\n",
    "title(\"Mask\", fontsize=10)\n",
    "show()\n",
    "\n",
    "tight_layout()"
   ]
  },
  {
   "cell_type": "markdown",
   "metadata": {},
   "source": [
    "It may be difficult to tell, but the images above are the result of the following process:\n",
    "1. I asked the labelers to outline the dominant, camera-facing facades (within 15 deg). \n",
    "2. I automatically calculated the homography using the approach of [Affara et al](TBD).\n",
    "3. I warpedthe image and rendered out the (supposedly rectified) images shown in the figure above. \n",
    "4. The labelers continued labeling features in the (supposedly rectified) images."
   ]
  },
  {
   "cell_type": "markdown",
   "metadata": {},
   "source": [
    "> NOTE: I ran code that produces '-original.xml' files based on '-highlighted.xml' files.  If 'original.xml' exists, I want to remove 'highlighted.xml' from the list of files."
   ]
  },
  {
   "cell_type": "markdown",
   "metadata": {},
   "source": [
    "## Replace 'highlighted' by 'original' XML's"
   ]
  },
  {
   "cell_type": "code",
   "execution_count": null,
   "metadata": {
    "collapsed": false
   },
   "outputs": [],
   "source": [
    "xmls = glob('./labelme/Annotations/*/*.xml')\n",
    "print \"Found\", len(xmls), \"xml files\"\n",
    "[os.path.basename(f) for f in xmls[-10:]]"
   ]
  },
  {
   "cell_type": "markdown",
   "metadata": {},
   "source": [
    "**ALERT: ** I have **already backed up** my data so I feel comfortable modifying this in-place. You should consider doing the same. "
   ]
  },
  {
   "cell_type": "code",
   "execution_count": null,
   "metadata": {
    "collapsed": false
   },
   "outputs": [],
   "source": [
    "highlighted_xmls = [f for f in xmls if '-highlighted.xml' in f]\n",
    "print len(highlighted_xmls)"
   ]
  },
  {
   "cell_type": "markdown",
   "metadata": {},
   "source": [
    "---\n",
    "> *NOTE 1* I have already fixed the XML files, it does not need to be done again, so the next couple of cells are disabled. \n",
    "\n",
    "---\n",
    "  \n",
    "> *NOTE 2* At the time I wrote this I was unaware of the `force_list` and `unparse` functions of `xmltodict`, which is why I use the less elegant `str.replace` method in the code below. \n",
    "\n",
    "---"
   ]
  },
  {
   "cell_type": "markdown",
   "metadata": {
    "collapsed": false
   },
   "source": [
    "*The code below is what I used to replace the images in the XML files *\n",
    "\n",
    "---\n",
    "```python\n",
    "num_modifications = 0\n",
    "for i, xml in enumerate(highlighted_xmls):\n",
    "    contents = open(xml).read()\n",
    "    data = xmltodict.parse(contents)\n",
    "    folder = data['annotation']['folder']\n",
    "    filename = data['annotation']['filename']\n",
    "    new_filename = filename\n",
    "    if 'highlighted' not in filename:\n",
    "        continue\n",
    "    elif os.path.isfile(os.path.join('labelme', 'Images', folder,\n",
    "                                     filename.replace('-highlighted.jpg', '.jpg'))):\n",
    "        new_filename = filename.replace('-highlighted.jpg', '.jpg')\n",
    "    elif os.path.isfile(os.path.join('labelme', 'Images', folder, \n",
    "                                     filename.replace('-highlighted.jpg', '-original.jpg'))):\n",
    "        new_filename = filename.replace('-highlighted.jpg', '-original.jpg')\n",
    "    elif os.path.isfile(os.path.join('labelme', 'Images', folder, \n",
    "                                     filename.replace('-hilighted.jpg', '.jpg'))):\n",
    "        new_filename = filename.replace('-hilighted.jpg', '.jpg')\n",
    "    else:\n",
    "        print \"Failed to find any variant of\", os.path.join('labelme', 'Images', folder, filename)\n",
    "        \n",
    "    contents = contents.replace(filename, new_filename)\n",
    "    original_xml = xml.replace('highlighted.xml', 'original.xml')\n",
    "    num_modifications += 1\n",
    "\n",
    "    with open(original_xml, 'w') as f:\n",
    "        f.write(contents)\n",
    "    print '\\r{: 3} of {}, modified {} files'.format(i+1, len(highlighted_xmls), num_modifications),\n",
    "```\n",
    "---"
   ]
  },
  {
   "cell_type": "code",
   "execution_count": null,
   "metadata": {
    "collapsed": false
   },
   "outputs": [],
   "source": [
    "xmls = unique([f.replace('highlighted.xml', 'original.xml') for f in xmls])\n",
    "print len(xmls)"
   ]
  },
  {
   "cell_type": "code",
   "execution_count": null,
   "metadata": {
    "collapsed": false
   },
   "outputs": [],
   "source": [
    "for xml in xmls:\n",
    "    assert os.path.isfile(xml)"
   ]
  },
  {
   "cell_type": "markdown",
   "metadata": {},
   "source": [
    "Let's alsomake sure the images for each XML actually exist\n",
    "> **OOPS:** It looks like I was inconsistant with the naming. Something I used an '-original.jpg' suffix and sometimes I did not..."
   ]
  },
  {
   "cell_type": "code",
   "execution_count": null,
   "metadata": {
    "collapsed": false
   },
   "outputs": [],
   "source": [
    "import xmltodict\n",
    "for i, xml in enumerate(xmls):\n",
    "    contents = open(xml).read().decode('utf8')\n",
    "    data = xmltodict.parse(contents)\n",
    "    folder = data['annotation']['folder']\n",
    "    filename = data['annotation']['filename']\n",
    "    if not os.path.isfile(os.path.join('labelme', 'Images', folder, filename)):\n",
    "        print \"Missing {}/{}\".format(folder, filename)\n",
    "    print '\\rProcessed {} of {}, '.format(i, len(xmls)),"
   ]
  },
  {
   "cell_type": "markdown",
   "metadata": {},
   "source": [
    "Oops, there is a missing file in the list. It looks like some kind of a test XML. I will remove it with this code:\n",
    "\n",
    "---\n",
    "\n",
    "```ipython\n",
    "In [ ]: len(xmls)\n",
    "In [ ]: xmls[2275]\n",
    "Out[ ]: './labelme/Annotations/example_folder/img1.xml'\n",
    "\n",
    "In [ ]: !rm {xmls[2275]}\n",
    "In [ ]: os.path.isfile(xmls[2275])\n",
    "Out[ ]: False\n",
    "\n",
    "In [ ]: xmls = np.delete(xmls, 2275)\n",
    "In [ ]: len(xmls)\n",
    "Out[ ]: 4201\n",
    "```\n",
    "\n",
    "---"
   ]
  },
  {
   "cell_type": "markdown",
   "metadata": {},
   "source": [
    "Now If I run the cell above, I expect no missing files.. (you hopefully did not ever even see one)"
   ]
  },
  {
   "cell_type": "markdown",
   "metadata": {},
   "source": [
    "While we are at it, let's correct the anntotators typos"
   ]
  },
  {
   "cell_type": "code",
   "execution_count": null,
   "metadata": {
    "collapsed": false
   },
   "outputs": [],
   "source": [
    "#%%file aliases.py\n",
    "ALIASES = {u'0': 'unlabeled',\n",
    " u'None': 'unlabeled',\n",
    " u'asdf': 'unlabeled',\n",
    " u'blacony': 'balcony',\n",
    " u'c': 'unlabeled',\n",
    " u'c_2': 'unlabeled',\n",
    " u'corice': 'cornice',\n",
    " u'cornice\\xe7': 'cornice',\n",
    " u'cornise': 'cornice',\n",
    " u'dasdas': 'unlabeled',\n",
    " u'do': 'unlabeled',\n",
    " u'doot': 'door',\n",
    " u'egative': 'negative',\n",
    " u'f': 'unlabeled',\n",
    " u'facode': 'facade',\n",
    " u'fdsa': 'unlabeled',\n",
    " u'fgb': 'unlabeled',\n",
    " u'https_//vision.csi.miamioh.edu/_collection_labelme_mode_f_folder_batch2_image_ny_many-0289.jpg_username_michelle_objects_facade,sky,tree,obstruction,window,door,molding,balcony,sill,cornice,shop': 'unlabeled',\n",
    " u'ledg': 'ledge',\n",
    " u'legde': 'ledge',\n",
    " u'license plate': 'unlabeled',\n",
    " u'modeling': 'molding',\n",
    " u'molging': 'molding',\n",
    " u'neative': 'negative',\n",
    " u'neattive': 'negative',\n",
    " u'negaitve': 'negative',\n",
    " u'negarive': 'negative',\n",
    " u'negattive': 'negative',\n",
    " u'negtive': 'negative',\n",
    " u'ngeative': 'negative',\n",
    " u'o': 'unlabeled',\n",
    " u'o bstruction': 'obstruction',\n",
    " u'ob': 'obstruction',\n",
    " u'obatruction': 'obstruction',\n",
    " u'obstrucion': 'obstruction',\n",
    " u'obstruction\\xe7': 'obstruction',\n",
    " u'obstuction': 'obstruction',\n",
    " u'occluded': 'obstruction',\n",
    " u'occluision': 'obstruction',\n",
    " u'occlusion': 'obstruction',\n",
    " u'quitame': 'unlabeled',\n",
    " u'siil': 'sill',\n",
    " u'sil': 'sill',\n",
    " u'sing': 'sign',\n",
    " u'test': 'unlabeled',\n",
    " u'tre': 'tree',\n",
    " u'unknonw': 'unlabeled',\n",
    " u'unknow': 'unlabeled',\n",
    " u'unknown': 'unlabeled',\n",
    " u'unknwon': 'unlabeled',\n",
    " u'unlabale': 'unlabeled',\n",
    " u'unlabed': 'unlabeled',\n",
    " u'unlabel': 'unlabeled',\n",
    " u'unlabele': 'unlabeled',\n",
    " u'unlabeled_': 'unlabeled',\n",
    " u'unlabled': 'unlabeled',\n",
    " u'w': 'unlabeled',\n",
    " u'wi': 'unlabeled',\n",
    " u'windows': 'window',\n",
    " u'air-conditioner': 'air_conditioner',\n",
    " u'fire-escape-balcony': 'fire_escape_balcony',\n",
    " u'fire-escape-ladder': 'fire_escape_ladder'}"
   ]
  },
  {
   "cell_type": "markdown",
   "metadata": {},
   "source": [
    "When I first put together this list of aliases (based on counting how many unique object names I found) it accidentally had a cycle of aliases.  The following code was used to identify a cycle in my original list of ALIASES\n",
    "\n",
    "```python\n",
    "reduced_aliases = {}\n",
    "for k in ALIASES:\n",
    "    v = ALIASES[k]\n",
    "    while v in ALIASES:\n",
    "        v = ALIASES[v]\n",
    "    reduced_aliases[k] = v\n",
    "\n",
    "ALIASES = reduced_aliases\n",
    "```"
   ]
  },
  {
   "cell_type": "markdown",
   "metadata": {},
   "source": [
    "Once I had settled on an array of aliases, I renamed all of the mis-spelled objects in the XML files using this code:. \n",
    "\n",
    "```python\n",
    "import xmltodict\n",
    "num_replacements = 0\n",
    "\n",
    "for i, xml in enumerate(xmls):\n",
    "    contents = open(xml).read().decode('utf8')\n",
    "    initial_replacements = num_replacements\n",
    "    for key, value in ALIASES.iteritems():\n",
    "        pattern = u\"<name>{}</name>\".format(key)\n",
    "        replacement = u\"<name>{}</name>\".format(value)\n",
    "        if pattern in contents:\n",
    "            contents = contents.replace(pattern, replacement)\n",
    "            num_replacements += 1\n",
    "    \n",
    "    if num_replacements > initial_replacements:\n",
    "        with open(xml, 'w') as f:\n",
    "            f.write(contents)\n",
    "    print '\\r {} of {}, '.format(i, len(xmls)), num_replacements, \"substitutions\",\n",
    "```"
   ]
  },
  {
   "cell_type": "markdown",
   "metadata": {},
   "source": [
    "As part of understanding the labels, I wanted to get a count of how often each occured. The following code produced a dictinary of names:"
   ]
  },
  {
   "cell_type": "markdown",
   "metadata": {},
   "source": [
    "\n",
    "```python\n",
    "In [ ]: import xmltodict\n",
    "        names = {}\n",
    "        for i, xml in enumerate(xmls):\n",
    "            contents = open(xml).read().decode('utf8')\n",
    "            data = xmltodict.parse(contents)\n",
    "            objects = data['annotation']['object']\n",
    "            if not isinstance(objects, list):\n",
    "                objects = [objects]\n",
    "            for o in objects:\n",
    "                names[o['name']] = names.get(o['name'], 0) + 1\n",
    "            print '\\r {} of {}, '.format(i, len(xmls)),\n",
    "        print \n",
    "```\n",
    "\n",
    "\n",
    "```python\n",
    "In [ ]: names\n",
    "Out[ ]: {u'air_conditioner': 939,\n",
    "         u'awning': 606,\n",
    "         u'balcony': 4901,\n",
    "         u'bay': 191,\n",
    "         u'cornice': 19517,\n",
    "         u'deco': 2564,\n",
    "         u'door': 3765,\n",
    "         u'facade': 4842,\n",
    "         u'fire escape': 7,\n",
    "         u'fire_escape_balcony': 777,\n",
    "         u'fire_escape_ladder': 684,\n",
    "         u'flag': 94,\n",
    "         u'ledge': 1763,\n",
    "         u'molding': 5841,\n",
    "         u'negative': 2209,\n",
    "         u'obstruction': 3954,\n",
    "         u'pillar': 1875,\n",
    "         u'roof': 14,\n",
    "         u'shop': 3013,\n",
    "         u'sign': 2041,\n",
    "         u'sill': 15603,\n",
    "         u'sky': 821,\n",
    "         u'tree': 1465,\n",
    "         u'unlabeled': 743,\n",
    "         u'window': 51621}\n",
    "```"
   ]
  },
  {
   "cell_type": "markdown",
   "metadata": {},
   "source": [
    "Based on the actual labels we have (except fire-escape, which should be deleted)I have these features\n",
    "> *NOTE* The fire escape label was almost immediately replaced with 'fire_excape_balcony' and 'fire_escape_ladder' which, together, form the fire escape structure as a whole. I wanted the labelers to focus onthe smaller parts\n",
    "\n",
    "> *NOTE* The 'roof' label is not very prevalent -- I decided that if I had them label 'facade' and 'sky' then I could infer, to some extent, the roof. Also there was debate between the co-authors about what 'roof' meant. "
   ]
  },
  {
   "cell_type": "code",
   "execution_count": null,
   "metadata": {
    "collapsed": false
   },
   "outputs": [],
   "source": [
    "# %load new_feature_names_ordered.py\n",
    "FEATURES=[\n",
    " u'unlabeled', # s/negative/unlabeled for all above\n",
    " u'sky',\n",
    " u'facade',\n",
    " u'bay',\n",
    " u'deco',\n",
    " u'door',\n",
    " #u'fire escape',\n",
    " u'roof',\n",
    " u'sign',\n",
    " u'window',\n",
    " u'air_conditioner',\n",
    " u'shop',\n",
    " u'pillar',\n",
    " u'cornice',\n",
    " u'sill',\n",
    " u'molding',\n",
    " u'ledge',\n",
    " u'balcony',\n",
    " u'fire_escape_balcony',\n",
    " u'fire_escape_ladder',\n",
    " u'flag',\n",
    " u'awning',\n",
    " u'obstruction',  # --> s/negative/unlabeled for all below\n",
    " u'tree',\n",
    " u'negative',     # --> s/*/negative for all below\n",
    "]"
   ]
  },
  {
   "cell_type": "code",
   "execution_count": null,
   "metadata": {
    "collapsed": false
   },
   "outputs": [],
   "source": [
    "%run -i new_feature_names_ordered.py"
   ]
  },
  {
   "cell_type": "code",
   "execution_count": null,
   "metadata": {
    "collapsed": false
   },
   "outputs": [],
   "source": [
    "len(FEATURES)"
   ]
  },
  {
   "cell_type": "markdown",
   "metadata": {},
   "source": [
    "for k in names:\n",
    "    if (k not in ALIASES)  and (k not in ALIASES.values()) and (k not in FEATURES):\n",
    "        print k, \":\", names[k]"
   ]
  },
  {
   "cell_type": "markdown",
   "metadata": {},
   "source": [
    "It is okay to ignore fire escape as a label; I had them split that into two other labels but the old fire escape labels remain"
   ]
  },
  {
   "cell_type": "code",
   "execution_count": null,
   "metadata": {
    "collapsed": false
   },
   "outputs": [],
   "source": [
    "with open('files.txt', 'w') as f:\n",
    "    f.writelines([os.path.relpath(xml, 'labelme/Annotations') + '\\n' for xml in xmls])\n",
    "print \"Updated files.txt\""
   ]
  },
  {
   "cell_type": "code",
   "execution_count": null,
   "metadata": {
    "collapsed": false
   },
   "outputs": [],
   "source": [
    "!tail files.txt"
   ]
  },
  {
   "cell_type": "markdown",
   "metadata": {},
   "source": [
    "# Generate Pre-Processed Training Data"
   ]
  },
  {
   "cell_type": "code",
   "execution_count": null,
   "metadata": {
    "collapsed": false
   },
   "outputs": [],
   "source": [
    "from munch import Munch, munchify\n",
    "import munch"
   ]
  },
  {
   "cell_type": "code",
   "execution_count": null,
   "metadata": {
    "collapsed": false
   },
   "outputs": [],
   "source": [
    "!mkdir -p ./data/labelme-out"
   ]
  },
  {
   "cell_type": "markdown",
   "metadata": {},
   "source": [
    "**NOTE:** This next script will take FOREVER, so before we run it I think we want to work out some things...\n",
    "   - Crop in to the largest facade in the image, so we do not waste training time\n",
    "   - Add some extra labels "
   ]
  },
  {
   "cell_type": "code",
   "execution_count": null,
   "metadata": {
    "collapsed": false
   },
   "outputs": [],
   "source": [
    "import pyfacades.labelme.annotation\n",
    "reload(pyfacades.labelme.annotation)\n",
    "from pyfacades.labelme.annotation import Annotation\n"
   ]
  },
  {
   "cell_type": "code",
   "execution_count": null,
   "metadata": {
    "collapsed": false
   },
   "outputs": [],
   "source": [
    "import PIL\n",
    "from PIL import Image, ImageDraw\n",
    "\n",
    "def draw_objects(im, objects, fill=2, outline=3, vcuts=False):\n",
    "    im2 = Image.fromarray(im)\n",
    "    for o in objects:\n",
    "        if len(o.polygon.points) > 3:\n",
    "            if vcuts:\n",
    "                o.draw(im2, fill, fill)\n",
    "                \n",
    "                # Just draw the left and right edges as outlines\n",
    "                d = ImageDraw.Draw(im2)\n",
    "                ymin, xmin, ymax, xmax = o.bounds()\n",
    "                d.line((xmin, ymin, xmin, ymax), fill=outline)\n",
    "                d.line((xmax, ymin, xmax, ymax), fill=outline)\n",
    "                del d\n",
    "            else:\n",
    "                o.draw(im2, fill, outline)\n",
    "    im[...] = array(im2)\n",
    "    return im"
   ]
  },
  {
   "cell_type": "code",
   "execution_count": null,
   "metadata": {
    "collapsed": false
   },
   "outputs": [],
   "source": [
    "from skimage.morphology import binary_dilation, disk\n",
    "def thicken_outlines(im, radius=6, outline_color=3):\n",
    "    outline = im == outline_color\n",
    "    outline = binary_dilation(outline, disk(radius))\n",
    "    im[outline] = outline_color\n",
    "    return im"
   ]
  },
  {
   "cell_type": "code",
   "execution_count": null,
   "metadata": {
    "collapsed": false
   },
   "outputs": [],
   "source": [
    "def make_mask(a, name, radius = 6, fill=2, outline =3, vcuts=False):\n",
    "    objects = [o for o in a.objects if o.name == name]\n",
    "    mask = np.zeros((a.imagesize.nrows, a.imagesize.ncols), dtype=np.uint8)\n",
    "    draw_objects(mask, objects, fill=fill, outline=outline, vcuts=vcuts)\n",
    "    thicken_outlines(mask, radius=radius, outline_color=outline)\n",
    "    \n",
    "    return mask"
   ]
  },
  {
   "cell_type": "code",
   "execution_count": null,
   "metadata": {
    "collapsed": false
   },
   "outputs": [],
   "source": [
    "a = Annotation(xmls[0])\n",
    "a, a.objects"
   ]
  },
  {
   "cell_type": "code",
   "execution_count": null,
   "metadata": {
    "collapsed": false
   },
   "outputs": [],
   "source": [
    "NEGATIVE = 0\n",
    "UNKNOWN  = 1\n",
    "POSITIVE = 2\n",
    "OUTLINE  = 3\n",
    "\n",
    "\n",
    "default = Munch()\n",
    "default.fill = POSITIVE\n",
    "default.outline = UNKNOWN\n",
    "default.radius = 1 # 3 pixel thick border\n",
    "default.vcuts = False\n",
    "\n",
    "# Windows have a slightly thicker outline\n",
    "settings = munchify(dict(zip([str(f) for f in FEATURES], [default]*len(FEATURES))))\n",
    "settings.window.outline = OUTLINE\n",
    "settings.window.radius  = 3\n",
    "\n",
    "# Facades have a much thicker outline\n",
    "settings.facade.outline = OUTLINE\n",
    "settings.facade.radius = 10\n",
    "settings.facade.vcuts=True\n",
    "\n",
    "# The unknown area near the edge of 'sky' is thicker than normal\n",
    "# the labelers had a hard time here I think\n",
    "settings.sky.radius = 15\n",
    "settings.sky.outline = UNKNOWN\n",
    "\n",
    "#print munch.toYAML(settings)"
   ]
  },
  {
   "cell_type": "code",
   "execution_count": null,
   "metadata": {
    "collapsed": false
   },
   "outputs": [],
   "source": [
    "with open('settings.yml', 'w') as f:\n",
    "    f.write(munch.toYAML(settings))"
   ]
  },
  {
   "cell_type": "code",
   "execution_count": null,
   "metadata": {
    "collapsed": false
   },
   "outputs": [],
   "source": [
    "def make_all_masks(a):\n",
    "    masks = Munch()\n",
    "    features = unique([o.name for o in a.objects if o.name in FEATURES])\n",
    "    unlabeled = make_mask(a, 'unlabeled', radius=0, outline=1, fill=1) == 1\n",
    "    masks.unlabeled= unlabeled\n",
    "    masks.rgb = array(a.get_image())\n",
    "    for f in features:\n",
    "        masks[f] = make_mask(a, f, \n",
    "                             radius=settings[f].radius, \n",
    "                             fill=settings[f].fill,\n",
    "                             outline=settings[f].outline,\n",
    "                             vcuts=settings[f].vcuts)\n",
    "        masks[f][unlabeled] = 1\n",
    "        \n",
    "    return masks\n",
    "        "
   ]
  },
  {
   "cell_type": "code",
   "execution_count": null,
   "metadata": {
    "collapsed": false
   },
   "outputs": [],
   "source": [
    "masks = make_all_masks(a)"
   ]
  },
  {
   "cell_type": "code",
   "execution_count": null,
   "metadata": {
    "collapsed": false
   },
   "outputs": [],
   "source": [
    "import copy"
   ]
  },
  {
   "cell_type": "code",
   "execution_count": null,
   "metadata": {
    "collapsed": false
   },
   "outputs": [],
   "source": [
    "def expand_bounds(bounds, hpercent, vpercent):\n",
    "    ymin, xmin, ymax, xmax = bounds\n",
    "    width = xmax-xmin\n",
    "    height = ymax-ymin\n",
    "    dx = int(round(hpercent*width))\n",
    "    dy = int(round(vpercent*height))\n",
    "    return ymin-dy, xmin-dx, ymax+dy, xmax+dx\n",
    "\n",
    "def transpose_bounds(bounds):\n",
    "    ymin, xmin, ymax, xmax = bounds\n",
    "    return (xmin, ymin, xmax, ymax)\n",
    "\n",
    "def clip_bounds(inner, outer):\n",
    "    return (max(inner[0], outer[0]), max(inner[1], outer[1]), \n",
    "            min(inner[2], outer[2]), min(inner[3], outer[3]))"
   ]
  },
  {
   "cell_type": "code",
   "execution_count": null,
   "metadata": {
    "collapsed": false
   },
   "outputs": [],
   "source": [
    "def cropped_masks(mask, bounds):\n",
    "    result = copy.deepcopy(mask)\n",
    "    mask_bounds = (0, 0, mask.rgb.shape[0], mask.rgb.shape[1])\n",
    "    bounds = clip_bounds(bounds, mask_bounds)\n",
    "    ymin, xmin, ymax, xmax = bounds\n",
    "    for key in mask:\n",
    "        result[key] = mask[key][int(ymin):int(ymax), int(xmin):int(xmax)]\n",
    "    return result"
   ]
  },
  {
   "cell_type": "code",
   "execution_count": null,
   "metadata": {
    "collapsed": false
   },
   "outputs": [],
   "source": [
    "def mask_negative(labels):\n",
    "    return np.ma.masked_less(labels, 1)"
   ]
  },
  {
   "cell_type": "code",
   "execution_count": null,
   "metadata": {
    "collapsed": false
   },
   "outputs": [],
   "source": [
    "warnings.filterwarnings('error') # For debugging -- with %pdb on....\n",
    "\n",
    "def extract_facades(a, masks):\n",
    "    facades = [o for o in a.objects if o.name=='facade']\n",
    "    results = []\n",
    "    for f in facades:\n",
    "        bounds = list(expand_bounds(f.bounds(), 0.10, 0.0))\n",
    "        if bounds[2] > masks.rgb.shape[0]:\n",
    "            bounds[2] = masks.rgb.shape[0]\n",
    "        if bounds[2]-bounds[0] < 512:\n",
    "            bounds[0] = bounds[2] - 512\n",
    "        h = bounds[2] - bounds[0]\n",
    "        w = bounds[3] - bounds[1]\n",
    "        if  float(w)/h < 1:\n",
    "            ctr = bounds[1] + w/2.\n",
    "            bounds[1] = max(0,ctr-h/2.)\n",
    "            bounds[3] = bounds[1] + h\n",
    "        facade_mask = cropped_masks(masks, bounds)\n",
    "        results.append(facade_mask)\n",
    "    return results"
   ]
  },
  {
   "cell_type": "code",
   "execution_count": null,
   "metadata": {
    "collapsed": false
   },
   "outputs": [],
   "source": [
    "facade_masks = extract_facades(a, masks)\n",
    "for m2 in facade_masks:\n",
    "    figure()\n",
    "    imshow(m2.rgb)\n",
    "    imshow(mask_negative(m2.facade), alpha=0.25, vmin=0, vmax=3)\n",
    "    imshow(mask_negative(m2.window), alpha=0.25, vmin=0, vmax=3)\n",
    "    imshow(mask_negative(m2.tree), alpha=0.25, vmin=0, vmax=3)\n",
    "    imshow(mask_negative(m2.sky), alpha=0.25, vmin=0, vmax=3)"
   ]
  },
  {
   "cell_type": "code",
   "execution_count": null,
   "metadata": {
    "collapsed": false
   },
   "outputs": [],
   "source": [
    "from pyfacades.util import split_tiles"
   ]
  },
  {
   "cell_type": "code",
   "execution_count": null,
   "metadata": {
    "collapsed": false
   },
   "outputs": [],
   "source": [
    "print \"The RGB shape is:\", facade_masks[0].rgb.shape\n",
    "print \"The 'window' mask shape is:\", facade_masks[0].window.shape"
   ]
  },
  {
   "cell_type": "code",
   "execution_count": null,
   "metadata": {
    "collapsed": false
   },
   "outputs": [],
   "source": [
    "def tile_mask(mask, shape=(512, 512), overlap=16):\n",
    "    tiles = {}\n",
    "    for key in mask:\n",
    "        if key == 'rgb':\n",
    "            # RGB is a 3D array that is channels_last, it must be channels_first temporarily\n",
    "            tiles[key] = list(split_tiles(mask[key].transpose(2, 0, 1), shape, overlap))\n",
    "            tiles[key] = [t.transpose(1, 2,0) for t in tiles[key]]\n",
    "        else:\n",
    "            # split_tiles asumes 3D input -- channels_first. \n",
    "            tiles[key] = list(split_tiles(array([mask[key]]), shape, overlap))\n",
    "            tiles[key] = [t.squeeze() for t in tiles[key]]\n",
    "            \n",
    "    num_tiles = len(tiles.values()[0])\n",
    "    \n",
    "    results = []\n",
    "    for i in range(num_tiles):\n",
    "        results.append(munchify({key:values[i] for key, values in tiles.iteritems()}))\n",
    "    return results"
   ]
  },
  {
   "cell_type": "code",
   "execution_count": null,
   "metadata": {
    "collapsed": false
   },
   "outputs": [],
   "source": [
    "tiles = tile_mask(facade_masks[0])"
   ]
  },
  {
   "cell_type": "code",
   "execution_count": null,
   "metadata": {
    "collapsed": false
   },
   "outputs": [],
   "source": [
    "print \"Found\", len(tiles), \"tiles\"\n",
    "print \"Found\", tiles[0].keys(), \"features\"\n",
    "print \"The RGB data shape is:\", tiles[0].rgb.shape\n",
    "print \"The 'window' shape is:\", tiles[0].window.shape\n"
   ]
  },
  {
   "cell_type": "code",
   "execution_count": null,
   "metadata": {
    "collapsed": false
   },
   "outputs": [],
   "source": [
    "figure()\n",
    "for f in range(len(facade_masks)):\n",
    "    tiles = tile_mask(facade_masks[f])\n",
    "    for i in range(len(tiles)):\n",
    "        subplot(len(facade_masks),len(tiles),i+1)\n",
    "        imshow(tiles[i].rgb/255.)\n",
    "        imshow(mask_negative(tiles[i].facade), alpha=0.3, vmin=0, vmax=3)\n",
    "        imshow(mask_negative(tiles[i].window), alpha=0.3, vmin=0, vmax=3)\n",
    "        imshow(mask_negative(tiles[i].sky), alpha=0.3, vmin=0, vmax=3)\n",
    "        imshow(mask_negative(tiles[i].tree), alpha=0.3, vmin=0, vmax=3)\n",
    "        noticks()"
   ]
  },
  {
   "cell_type": "markdown",
   "metadata": {},
   "source": [
    "## Organization / Plan"
   ]
  },
  {
   "cell_type": "markdown",
   "metadata": {},
   "source": [
    "- Each source image will be put into its own folder\n",
    "- Within each folder, each facade will be put into a 2-digit, zero-padded,numbered folder (starting at 01)\n",
    "- Within each facade, the tiles will be saved as 'tile-####.npz', where #### is an index starting at 0001\n",
    "- Within the NPZ, each layer will be saved with the corresponding feature name.\n",
    "- Anything that does not have a label saved in the file should be assumed NEGATIVE\n",
    "- Unknown regions have the label 'unknown'\n"
   ]
  },
  {
   "cell_type": "code",
   "execution_count": null,
   "metadata": {
    "collapsed": false
   },
   "outputs": [],
   "source": [
    "import logging"
   ]
  },
  {
   "cell_type": "code",
   "execution_count": null,
   "metadata": {
    "collapsed": false
   },
   "outputs": [],
   "source": [
    "import pyfacades.labelme.annotation as anno"
   ]
  },
  {
   "cell_type": "code",
   "execution_count": null,
   "metadata": {
    "collapsed": false
   },
   "outputs": [],
   "source": [
    "def has_facade(a):\n",
    "    for o in a.objects:\n",
    "        if o.name == 'facade':\n",
    "            return True\n",
    "    return False\n",
    "\n",
    "def restore_facade(a):\n",
    "    facade = Munch()\n",
    "    facade.name='facade'\n",
    "    facade.deleted = 0\n",
    "    facade.verified = 0\n",
    "    facade.occluded = 'no'\n",
    "    facade.attributes = None\n",
    "    facade.parts = Munch()\n",
    "    facade.parts.hasparts = None\n",
    "    facade.parts.ispartof = None\n",
    "    facade.date = u'17-Nov-2017 19:48:13'\n",
    "    facade['id'] = len(a.objects)\n",
    "    facade['type'] =  u'bounding_box'\n",
    "    facade.polygon = Munch()\n",
    "    facade.polygon.username='generate-training-data(script)'\n",
    "    facade.polygon.pt = [dict(x=100, y=0),\n",
    "                         dict(x=a.imagesize.ncols-100, y=0),\n",
    "                         dict(x=a.imagesize.ncols-100, y=a.imagesize.nrows),\n",
    "                         dict(x=100, y=a.imagesize.nrows)]\n",
    "    left = Munch()\n",
    "    left.name='unlabeled'\n",
    "    left.deleted = 0\n",
    "    left.verified = 0\n",
    "    left.occluded = 'no'\n",
    "    left.attributes = None\n",
    "    left.parts = Munch()\n",
    "    left.parts.hasparts = None\n",
    "    left.parts.ispartof = None\n",
    "    left.date = u'17-Nov-2017 19:48:13'\n",
    "    left['id'] = len(a.objects)\n",
    "    left['type'] =  u'bounding_box'\n",
    "    left.polygon = Munch()\n",
    "    left.polygon.username='generate-training-data(script)'\n",
    "    left.polygon.pt = [dict(x=0, y=0),\n",
    "                       dict(x=100, y=0),\n",
    "                       dict(x=100, y=a.imagesize.nrows),\n",
    "                       dict(x=0, y=a.imagesize.nrows)]\n",
    "\n",
    "    right = Munch()\n",
    "    right.name='unlabeled'\n",
    "    right.deleted = 0\n",
    "    right.verified = 0\n",
    "    right.occluded = 'no'\n",
    "    right.attributes = None\n",
    "    right.parts = Munch()\n",
    "    right.parts.hasparts = None\n",
    "    right.parts.ispartof = None\n",
    "    right.date = u'17-Nov-2017 19:48:13'\n",
    "    right['id'] = len(a.objects)\n",
    "    right['type'] =  u'bounding_box'\n",
    "    right.polygon = Munch()\n",
    "    right.polygon.username='generate-training-data(script)'\n",
    "    right.polygon.pt = [dict(x=a.imagesize.ncols-100, y=0),\n",
    "                        dict(x=a.imagesize.ncols, y=0),\n",
    "                        dict(x=a.imagesize.ncols, y=a.imagesize.nrows),\n",
    "                        dict(x=a.imagesize.ncols-100, y=a.imagesize.nrows)]\n",
    "\n",
    "    oleft = anno.Object()\n",
    "    oright = anno.Object()\n",
    "    ofacade = anno.Object()\n",
    "\n",
    "    oleft.set_from_dict(left)\n",
    "    oright.set_from_dict(right)\n",
    "    ofacade.set_from_dict(facade)\n",
    "\n",
    "    a.objects.extend([oleft, oright, ofacade])"
   ]
  },
  {
   "cell_type": "code",
   "execution_count": null,
   "metadata": {
    "collapsed": false
   },
   "outputs": [],
   "source": [
    "from time import clock"
   ]
  },
  {
   "cell_type": "code",
   "execution_count": null,
   "metadata": {
    "collapsed": false
   },
   "outputs": [],
   "source": [
    "working_figure = figure(100)\n",
    "\n",
    "all_features = {}\n",
    "\n",
    "def preprocess_single_image(xml, output_dir,\n",
    "                            skip_no_windows=True,  # It seems like some images have facade, but notheing else\n",
    "                            visualize=True,\n",
    "                            redo=False):\n",
    "    stem = os.path.splitext(os.path.basename(xml))[0]\n",
    "    timings = dict(setup=0., tiles =0., plot=0.)\n",
    "    \n",
    "    if visualize:\n",
    "        fig = gcf()\n",
    "   \n",
    "    if redo==False and os.path.isdir(os.path.join(output_dir, stem)):\n",
    "        if visualize:\n",
    "            subplot(111)\n",
    "            title('Skipping {}, already processed!'.format(stem))\n",
    "        return len(glob(os.path.join(output_dir, stem, '*', '*.npz'))), timings\n",
    "    \n",
    "    #print xml\n",
    "    \n",
    "    try:\n",
    "        a = Annotation(xml)\n",
    "    except IOError as e:\n",
    "        logging.error('IOError:{}, when processing {}'.format(e, xml))\n",
    "        return 0, timings\n",
    "    #print a\n",
    "    \n",
    "    if not has_facade(a):\n",
    "        restore_facade(a)\n",
    "    \n",
    "    features = dict(zip(FEATURES, [0]*len(FEATURES)))\n",
    "    for o in a.objects:\n",
    "        if o.name in features:\n",
    "            features[o.name]+=1\n",
    "    all_features[stem] = features\n",
    "    \n",
    "    if features['window'] == 0 and skip_no_windows:\n",
    "        if visualize:\n",
    "            subplot(111)\n",
    "            title('Skipping {}, no windows!'.format(stem))\n",
    "        return len(glob(os.path.join(output_dir, stem, '*', '*.npz'))), timings\n",
    "        \n",
    "    t1 = clock()\n",
    "    all_masks = make_all_masks(a)\n",
    "    useful_masks = extract_facades(a, all_masks)\n",
    "    tiles = [tile_mask(useful_mask) for useful_mask in useful_masks]\n",
    "    \n",
    "    t2 = clock()\n",
    "    \n",
    "    num_out = 0\n",
    "    for facade_index, facade_tiles in enumerate(tiles):\n",
    "        for tile_index, mask in enumerate(facade_tiles):\n",
    "            output_path = os.path.join(output_dir, \n",
    "                                       stem,\n",
    "                                       '{:02}'.format(facade_index+1), \n",
    "                                       '{:04}.npz'.format(tile_index+1))\n",
    "            try:\n",
    "                os.makedirs(os.path.dirname(output_path))\n",
    "            except OSError: \n",
    "                pass \n",
    "            np.savez(output_path, **mask)\n",
    "            \n",
    "            fig2 = figure(working_figure.number,  figsize=(3,3))\n",
    "            imshow(mask.rgb/255.)\n",
    "            imshow(mask_negative(mask.facade), alpha=0.3, vmin=0, vmax=3)\n",
    "\n",
    "            if 'window' in mask:\n",
    "                imshow(mask_negative(mask.window), alpha=0.3, vmin=0, vmax=3)\n",
    "\n",
    "            if 'sky' in mask:\n",
    "                imshow(mask_negative(mask.sky), alpha=0.3, vmin=0, vmax=3)\n",
    "\n",
    "            if 'tree' in mask:\n",
    "                imshow(mask_negative(mask.tree), alpha=0.3, vmin=0, vmax=3)\n",
    "            noticks()\n",
    "            axis('off')\n",
    "            tight_layout()\n",
    "            savefig(os.path.join(output_dir, \n",
    "                                       stem,\n",
    "                                       '{:02}'.format(facade_index+1), \n",
    "                                       '{:04}.jpg'.format(tile_index+1)))\n",
    "            #close(fig2)\n",
    "            #del fig2\n",
    "            num_out += 1\n",
    "    t3 = clock()\n",
    "    \n",
    "    if visualize:\n",
    "        figure(fig.number)\n",
    "        clf()\n",
    "        plot_index = 0\n",
    "        for facade_index, facade_tiles in enumerate(tiles):\n",
    "            for tile_index, mask in enumerate(facade_tiles):\n",
    "                plot_index = facade_index*len(facade_tiles) + tile_index + 1\n",
    "                ax = subplot(len(tiles),len(facade_tiles), plot_index)\n",
    "                ax.imshow(mask.rgb/255.)\n",
    "                ax.imshow(mask_negative(mask.facade), alpha=0.3, vmin=0, vmax=3)\n",
    "                \n",
    "                if 'window' in mask:\n",
    "                    ax.imshow(mask_negative(mask.window), alpha=0.3, vmin=0, vmax=3)\n",
    "               \n",
    "                if 'sky' in mask:\n",
    "                    ax.imshow(mask_negative(mask.sky), alpha=0.3, vmin=0, vmax=3)\n",
    "                \n",
    "                if 'tree' in mask:\n",
    "                    ax.imshow(mask_negative(mask.tree), alpha=0.3, vmin=0, vmax=3)\n",
    "                noticks()\n",
    "\n",
    "    t4 = clock()\n",
    "    timings = dict(setup=t2-t1, tiles = t3-t2, plot=t4-t3)\n",
    "                \n",
    "    return num_out, timings\n",
    "    "
   ]
  },
  {
   "cell_type": "code",
   "execution_count": null,
   "metadata": {
    "collapsed": false
   },
   "outputs": [],
   "source": [
    "output_dir = './data/aeriels-24class'"
   ]
  },
  {
   "cell_type": "code",
   "execution_count": null,
   "metadata": {
    "collapsed": false
   },
   "outputs": [],
   "source": [
    "xml"
   ]
  },
  {
   "cell_type": "code",
   "execution_count": null,
   "metadata": {
    "collapsed": false
   },
   "outputs": [],
   "source": [
    "figure()\n",
    "preprocess_single_image(xml, output_dir, redo=True)"
   ]
  },
  {
   "cell_type": "code",
   "execution_count": null,
   "metadata": {
    "collapsed": false
   },
   "outputs": [],
   "source": [
    "figure()\n",
    "imshow(imread('data/aeriels-24class/{}/01/0001.jpg'.format(os.path.splitext(os.path.basename(xml))[0] )))\n",
    "#imshow(imread('data/aeriels-24class/madrid-1-6-orthographic/01/0001.jpg'))\n",
    "axis('off')"
   ]
  },
  {
   "cell_type": "code",
   "execution_count": null,
   "metadata": {
    "collapsed": false
   },
   "outputs": [],
   "source": [
    "from glob import glob\n",
    "print len(glob('data/aeriels-24class/*/*/*.npz'))"
   ]
  },
  {
   "cell_type": "code",
   "execution_count": null,
   "metadata": {
    "collapsed": false
   },
   "outputs": [],
   "source": [
    "empty_xmls = set()\n",
    "odd_xmls = set()\n",
    "for i, xml in enumerate(xmls):\n",
    "    try:\n",
    "        a = Annotation(xml)\n",
    "    except IOError:\n",
    "        pass\n",
    "    facades = [o for o in a if o.name =='facade']\n",
    "    if len(facades) == 0:\n",
    "        objects = set([o.name for o in a.objects if o.name != 'unlabeled'])\n",
    "        if len(objects) == 0:\n",
    "            empty_xmls.add(xml)\n",
    "            #print a.filename, \"empty\",\n",
    "        else:\n",
    "            odd_xmls.add(xml)\n",
    "            #print a.filename, \"odd\", ','.join(objects),\n",
    "        print '\\r',i,  xml,"
   ]
  },
  {
   "cell_type": "code",
   "execution_count": null,
   "metadata": {
    "collapsed": false
   },
   "outputs": [],
   "source": [
    "print len(empty_xmls), \"empty xml files\"\n",
    "print len(odd_xmls), \"odd xmls (no facade)\""
   ]
  },
  {
   "cell_type": "code",
   "execution_count": null,
   "metadata": {
    "collapsed": false
   },
   "outputs": [],
   "source": [
    "import gc\n",
    "print gc.collect(), \"collected garbage\"\n",
    "print \"Figures:\",[m.num for m in matplotlib._pylab_helpers.Gcf.get_all_fig_managers()]"
   ]
  },
  {
   "cell_type": "markdown",
   "metadata": {},
   "source": [
    "**NOTE:** Occasionally as I worked on this notebook I realizes I had produced the output completely wrong and had to restart. Since I generally try not to reprocess files I already have produced, occasionally I typed this into a cell in order to get rid of all output. **_Be very careful with this!_**\n",
    "\n",
    "    !rm -r ./data/aeriels-24class/*"
   ]
  },
  {
   "cell_type": "markdown",
   "metadata": {},
   "source": [
    "I realized as I produced the data that many of the images had facades labeled, but no windows. According to our labeling process, it is possible that facades and sky would be identified (phase I labeling) and that the labelers did not get to labeling the other features no facades after I rectified them (phase II labeling).  After phase II labeling, absence of a label means it is not present, unless it is part of an 'unlabeled' region. "
   ]
  },
  {
   "cell_type": "markdown",
   "metadata": {},
   "source": [
    "I need to go back and remove any preprocessed files that do not have features; in particular I will remove any facade that does not include at least one window."
   ]
  },
  {
   "cell_type": "code",
   "execution_count": null,
   "metadata": {
    "collapsed": false
   },
   "outputs": [],
   "source": [
    "feature_counts_per_xml = {}\n",
    "\n",
    "for k, xml in enumerate(xmls):\n",
    "    if xml in empty_xmls:\n",
    "        continue\n",
    "        \n",
    "    stem = os.path.splitext(os.path.basename(xml))[0]\n",
    "    \n",
    "    fc = dict(zip(FEATURES, [0]*len(FEATURES)))\n",
    "    a = munch.munchify(xmltodict.parse(open(xml), force_list=['object'])).annotation\n",
    "    for o in a.object:\n",
    "        if o.name in fc:\n",
    "            fc[o.name] += 1\n",
    "        else:\n",
    "            print xml\n",
    "    feature_counts_per_xml[xml] = fc\n",
    "    print '\\r {} of {}'.format(k, len(xmls)),"
   ]
  },
  {
   "cell_type": "code",
   "execution_count": null,
   "metadata": {
    "collapsed": false
   },
   "outputs": [],
   "source": [
    "fire_escape_xmls = [\n",
    "    './labelme/Annotations/batch2/ny_many-0110.xml'\n",
    "    './labelme/Annotations/batch2/ny_many-0200.xml'\n",
    "    './labelme/Annotations/batch2/ny_many-0393.xml'\n",
    "    './labelme/Annotations/batch2/ny_many-0426.xml'\n",
    "]"
   ]
  },
  {
   "cell_type": "code",
   "execution_count": null,
   "metadata": {
    "collapsed": false
   },
   "outputs": [],
   "source": [
    "window_xmls = [xml for (xml, fc) in feature_counts_per_xml.iteritems() if fc['window'] > 0]"
   ]
  },
  {
   "cell_type": "code",
   "execution_count": null,
   "metadata": {
    "collapsed": false
   },
   "outputs": [],
   "source": [
    "window_xmls[:3]"
   ]
  },
  {
   "cell_type": "code",
   "execution_count": null,
   "metadata": {
    "collapsed": false
   },
   "outputs": [],
   "source": [
    "feature_counts_per_xml['./lab']"
   ]
  },
  {
   "cell_type": "code",
   "execution_count": null,
   "metadata": {
    "collapsed": false,
    "scrolled": false
   },
   "outputs": [],
   "source": [
    "fig = figure(figsize=(10,8))\n",
    "num_out = len(glob(os.path.join(output_dir, '*', '*', '*.npz')))\n",
    "for k, xml in enumerate(window_xmls):\n",
    "    if xml in empty_xmls:\n",
    "        continue\n",
    "    \n",
    "    stem = os.path.splitext(os.path.basename(xml))[0]\n",
    "    \n",
    "    if os.path.isdir(os.path.join(output_dir, stem)):\n",
    "        continue # Do not reprocess work done previously -- for some reason this crashed.\n",
    "        \n",
    "    print '\\r{:>6} of {:6} ({} so far)'.format(k, len(xmls), num_out),\n",
    "    n, t = preprocess_single_image(xml, output_dir) \n",
    "    num_out += n\n",
    "    suptitle('{:>6} of {:6} ({} so far): i:{:.2f} t:{:.2f} p:{:.2f}\\n{}'.format(k, len(window_xmls), num_out,\n",
    "                                                                     t['setup'], t['tiles'], t['plot'],\n",
    "                                                                     xml))\n",
    "    fig.canvas.draw()\n",
    "    gc.collect()\n",
    "\n",
    "print '\\r{:>6} of {:6} ({} so far)'.format(k, len(xmls), num_out),"
   ]
  },
  {
   "cell_type": "code",
   "execution_count": null,
   "metadata": {
    "collapsed": false
   },
   "outputs": [],
   "source": [
    "def stem(f):\n",
    "    return os.path.splitext(os.path.basename(f))[0]"
   ]
  },
  {
   "cell_type": "markdown",
   "metadata": {
    "collapsed": false
   },
   "source": [
    "## Compress and Move data to a publicly accessible location"
   ]
  },
  {
   "cell_type": "code",
   "execution_count": null,
   "metadata": {
    "collapsed": false
   },
   "outputs": [],
   "source": [
    "%pylab inline\n",
    "import os  # crashed due to code in a (now deleted) cell -- too lazy to scroll up\n"
   ]
  },
  {
   "cell_type": "code",
   "execution_count": null,
   "metadata": {
    "collapsed": false
   },
   "outputs": [],
   "source": [
    "if not os.path.isfile('{}/dataset.zip'.format(output_dir)):\n",
    "    !zip {output_dir}/dataset.zip {output_dir}/*/*/*.npz"
   ]
  },
  {
   "cell_type": "code",
   "execution_count": null,
   "metadata": {
    "collapsed": false
   },
   "outputs": [],
   "source": [
    "# if not os.path.isfile('{}/dataset-visualization.zip'.format(output_dir)):\n",
    "#     !zip {output_dir}/dataset.zip {output_dir}/*/*/*.jpg"
   ]
  },
  {
   "cell_type": "code",
   "execution_count": null,
   "metadata": {
    "collapsed": false
   },
   "outputs": [],
   "source": [
    "output_dir"
   ]
  },
  {
   "cell_type": "code",
   "execution_count": null,
   "metadata": {
    "collapsed": false
   },
   "outputs": [],
   "source": [
    "!ls ./data/aeriels-24class/*/*/*.npz | tail"
   ]
  },
  {
   "cell_type": "code",
   "execution_count": null,
   "metadata": {
    "collapsed": false
   },
   "outputs": [],
   "source": [
    "test = np.load('./data/aeriels-24class/regent_many-0421-facade-02-original/01/0001.npz')"
   ]
  },
  {
   "cell_type": "code",
   "execution_count": null,
   "metadata": {
    "collapsed": false
   },
   "outputs": [],
   "source": [
    "test.keys()"
   ]
  },
  {
   "cell_type": "code",
   "execution_count": null,
   "metadata": {
    "collapsed": false
   },
   "outputs": [],
   "source": [
    "type(test)"
   ]
  },
  {
   "cell_type": "code",
   "execution_count": null,
   "metadata": {
    "collapsed": false
   },
   "outputs": [],
   "source": [
    "!du -h ./data/aeriels-24class/dataset.zip"
   ]
  },
  {
   "cell_type": "markdown",
   "metadata": {},
   "source": [
    "Now open up a terminal and copy the data into a location that can be shared\n",
    "\n",
    "    mkdir /mnt/S/Teams/Vision/fdb\n",
    "    cp ./data/aeriels-24class/dataset.zip /mnt/S/Teams/Vision/fdb"
   ]
  },
  {
   "cell_type": "code",
   "execution_count": null,
   "metadata": {
    "collapsed": false
   },
   "outputs": [],
   "source": []
  }
 ],
 "metadata": {
  "anaconda-cloud": {},
  "kernelspec": {
   "display_name": "Python [conda env:femiani]",
   "language": "python",
   "name": "conda-env-femiani-py"
  },
  "language_info": {
   "codemirror_mode": {
    "name": "ipython",
    "version": 2
   },
   "file_extension": ".py",
   "mimetype": "text/x-python",
   "name": "python",
   "nbconvert_exporter": "python",
   "pygments_lexer": "ipython2",
   "version": "2.7.12"
  }
 },
 "nbformat": 4,
 "nbformat_minor": 1
}
