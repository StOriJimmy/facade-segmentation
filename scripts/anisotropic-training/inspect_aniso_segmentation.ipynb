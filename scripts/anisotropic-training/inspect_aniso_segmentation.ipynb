{
 "cells": [
  {
   "cell_type": "markdown",
   "metadata": {},
   "source": [
    "# This Notebook Inspects the Anisotropic Classifier\n",
    "\n",
    "The anistotropic version of the classifier uses alternating horizontal and vertical 1D convolutions instead of 2D convolutions in the decoding phase of a segnet. \n",
    "\n",
    "- The notebook that modifies the _facade-segnet_ net is [modify-segnet-for-anisotropy.ipynb](anisotropic-training/modify-segnet-for-anisotropy.ipynb)\n",
    "- I have made a notebook to help me visualize progress as I train, if is [train_using_jupyter.ipynb](train_using_jupyter.ipynb)\n",
    "- After you have funished training, this notebook will allow you to inspect the net.\n",
    "\n",
    "---\n",
    "> **NOTE** When trianing I have my data in an external, larger hard drive. This gives me enough storage to hold many snapshots of the classifier as well as preprocessed imagery for traiing. I use a soft-link so that the extranl drive appears to be part of the project. \n",
    "\n",
    "---\n",
    "> **NOTE:** Do not try to use more than one net at a time on the same GPU, use Kernel->Restart"
   ]
  },
  {
   "cell_type": "code",
   "execution_count": null,
   "metadata": {
    "collapsed": false
   },
   "outputs": [],
   "source": [
    "%pylab notebook"
   ]
  },
  {
   "cell_type": "code",
   "execution_count": null,
   "metadata": {
    "collapsed": false
   },
   "outputs": [],
   "source": [
    "cd .."
   ]
  },
  {
   "cell_type": "code",
   "execution_count": null,
   "metadata": {
    "collapsed": false
   },
   "outputs": [],
   "source": [
    "import os\n",
    "sys.path.insert(0, os.path.abspath('./scripts/anisotropic-training'))"
   ]
  },
  {
   "cell_type": "code",
   "execution_count": null,
   "metadata": {
    "collapsed": false
   },
   "outputs": [],
   "source": [
    "#NET_WEIGHTS = 'scripts/anisotropic-training/deploy/test_weights.caffemodel'\n",
    "NET_WEIGHTS = 'scripts/anisotropic-training/tn.caffemodel'\n",
    "#NET_WEIGHTS='/home/shared/Projects/Facades/mybook/anisotropic/anisotropic_facades_iter_50000.caffemodel'\n",
    "NET_LAYOUT = 'scripts/anisotropic-training/modified-inference-net.prototxt'"
   ]
  },
  {
   "cell_type": "code",
   "execution_count": null,
   "metadata": {
    "collapsed": false
   },
   "outputs": [],
   "source": [
    "import traceback"
   ]
  },
  {
   "cell_type": "code",
   "execution_count": null,
   "metadata": {
    "collapsed": false
   },
   "outputs": [],
   "source": [
    "import getpass\n",
    "pwd = getpass.getpass('gmail:')"
   ]
  },
  {
   "cell_type": "code",
   "execution_count": null,
   "metadata": {
    "collapsed": false
   },
   "outputs": [],
   "source": [
    "import caffe\n",
    "caffe.set_device(0)\n",
    "caffe.set_mode_gpu()"
   ]
  },
  {
   "cell_type": "code",
   "execution_count": null,
   "metadata": {
    "collapsed": false
   },
   "outputs": [],
   "source": [
    "import warnings"
   ]
  },
  {
   "cell_type": "code",
   "execution_count": null,
   "metadata": {
    "collapsed": false
   },
   "outputs": [],
   "source": [
    "with warnings.catch_warnings():\n",
    "    warnings.filterwarnings(action='ignore')\n",
    "    net = caffe.Net(NET_LAYOUT, NET_WEIGHTS, caffe.TEST)"
   ]
  },
  {
   "cell_type": "code",
   "execution_count": null,
   "metadata": {
    "collapsed": false
   },
   "outputs": [],
   "source": [
    "from glob import glob\n",
    "files = glob('data/training/independant_12_layers/ours/npy/*.npy')"
   ]
  },
  {
   "cell_type": "code",
   "execution_count": null,
   "metadata": {
    "collapsed": false
   },
   "outputs": [],
   "source": [
    "index = random.choice(len(files))"
   ]
  },
  {
   "cell_type": "code",
   "execution_count": null,
   "metadata": {
    "collapsed": false
   },
   "outputs": [],
   "source": [
    "im = np.load(files[index])"
   ]
  },
  {
   "cell_type": "code",
   "execution_count": null,
   "metadata": {
    "collapsed": false
   },
   "outputs": [],
   "source": [
    "from pyfacades.util import channels_first, channels_last\n",
    "figure()\n",
    "imshow(channels_last(im[:3].astype(np.uint8)))"
   ]
  },
  {
   "cell_type": "code",
   "execution_count": null,
   "metadata": {
    "collapsed": false
   },
   "outputs": [],
   "source": [
    "result = net.forward(blobs=['prob-window'], data=array([im[:3].copy(), im[:3].copy(), im[:3].copy()]))"
   ]
  },
  {
   "cell_type": "code",
   "execution_count": null,
   "metadata": {
    "collapsed": false
   },
   "outputs": [],
   "source": [
    "NEGATIVE=0\n",
    "POSITIVE=2\n",
    "EDGE = 3"
   ]
  },
  {
   "cell_type": "code",
   "execution_count": null,
   "metadata": {
    "collapsed": false
   },
   "outputs": [],
   "source": [
    "from pyfacades.util import softmax"
   ]
  },
  {
   "cell_type": "code",
   "execution_count": null,
   "metadata": {
    "collapsed": false
   },
   "outputs": [],
   "source": [
    "softmax??"
   ]
  },
  {
   "cell_type": "code",
   "execution_count": null,
   "metadata": {
    "collapsed": false
   },
   "outputs": [],
   "source": [
    "blob = 'prob-window'\n",
    "cw = net.blobs[blob].data[1].copy()\n",
    "cw = cw[(0,2,3),...]\n",
    "cw -= cw.max(axis=0)\n",
    "cw = exp(cw)\n",
    "cw /= np.mean(cw, axis=0)"
   ]
  },
  {
   "cell_type": "code",
   "execution_count": null,
   "metadata": {
    "collapsed": false
   },
   "outputs": [],
   "source": [
    "figure()\n",
    "imshow(cw[1], vmin=0, vmax=1, cmap=cm.gray)\n",
    "colorbar()"
   ]
  },
  {
   "cell_type": "code",
   "execution_count": null,
   "metadata": {
    "collapsed": false
   },
   "outputs": [],
   "source": [
    "i = 0"
   ]
  },
  {
   "cell_type": "code",
   "execution_count": null,
   "metadata": {
    "collapsed": false
   },
   "outputs": [],
   "source": [
    "import time\n",
    "figure()\n",
    "blob = 'conv-window'\n",
    "net.blobs[blob].data[0][1]*=0\n",
    "for i in range(net.blobs[blob].count):\n",
    "    imshow(softmax(net.blobs[blob].data[0])[i], interpolation='nearest', extent=(0, 512, 0, 512), origin='upper')\n",
    "    imshow(net.blobs['data'].data[0].transpose(1,2,0)/255., interpolation='nearest', extent=(0, 512, 0, 512), origin='upper', alpha=0.2)\n",
    "    title(str(i))\n",
    "    gcf().canvas.draw()\n",
    "    time.sleep(0.5)"
   ]
  },
  {
   "cell_type": "code",
   "execution_count": null,
   "metadata": {
    "collapsed": false
   },
   "outputs": [],
   "source": []
  },
  {
   "cell_type": "code",
   "execution_count": null,
   "metadata": {
    "collapsed": false
   },
   "outputs": [],
   "source": []
  },
  {
   "cell_type": "code",
   "execution_count": null,
   "metadata": {
    "collapsed": false
   },
   "outputs": [],
   "source": [
    "import pyfacades.models.independant_12_layers.caffe_layers"
   ]
  },
  {
   "cell_type": "code",
   "execution_count": null,
   "metadata": {
    "collapsed": false
   },
   "outputs": [],
   "source": [
    "import re\n",
    "solver_proto = open('scripts/anisotropic-training/solver.prototxt').read()\n",
    "snapshot_prefix = re.search('^snapshot_prefix *: &*\\\"(.*)\\\"', solver_proto, re.MULTILINE).group(1).strip(' \"')\n",
    "print snapshot_prefix"
   ]
  },
  {
   "cell_type": "code",
   "execution_count": null,
   "metadata": {
    "collapsed": false
   },
   "outputs": [],
   "source": [
    "def get_iter(path):\n",
    "    s = os.path.splitext(path)[0]\n",
    "    s = s.rsplit('_')[-1]\n",
    "    iter = int(s)\n",
    "    return iter\n",
    "\n",
    "\n",
    "def get_last_iter(names):\n",
    "    iters = [get_iter(name) for name in names]\n",
    "    max_iter = max(iters) if len(iters) > 0 else ''\n",
    "    return max_iter\n",
    "\n",
    "from glob import glob\n",
    "print  get_last_iter(glob(snapshot_prefix + '*.caffemodel'))"
   ]
  },
  {
   "cell_type": "code",
   "execution_count": null,
   "metadata": {
    "collapsed": false
   },
   "outputs": [],
   "source": [
    "def get_weights():\n",
    "    iter_ = get_last_iter(glob(snapshot_prefix + '*.caffemodel'))\n",
    "    caffemodel = snapshot_prefix + '_iter_{}.caffemodel'.format(iter_)\n",
    "    return caffemodel"
   ]
  },
  {
   "cell_type": "code",
   "execution_count": null,
   "metadata": {
    "collapsed": false
   },
   "outputs": [],
   "source": [
    "def restore_solver(solver):\n",
    "    iter_ = get_last_iter(glob(snapshot_prefix + '*.caffemodel'))\n",
    "    #caffemodel = snapshot_prefix + '_iter_{}.caffemodel'.format(iter_)\n",
    "    solverstate = snapshot_prefix + '_iter_{}.solverstate'.format(iter_)\n",
    "    print solverstate\n",
    "    solver.restore(solverstate)"
   ]
  },
  {
   "cell_type": "code",
   "execution_count": null,
   "metadata": {
    "collapsed": false
   },
   "outputs": [],
   "source": [
    "%pushd scripts/anisotropic-training\n",
    "%pwd\n",
    "try:\n",
    "    del net  # Delete the old net if it alrady exists\n",
    "except NameError:\n",
    "    pass\n",
    "\n",
    "with warnings.catch_warnings():\n",
    "    warnings.filterwarnings(action='ignore')  # Ignore warning about mpl.use\n",
    "    solver = caffe.get_solver('solver.prototxt')\n",
    "    #restore_solver(solver)\n",
    "%popd"
   ]
  },
  {
   "cell_type": "code",
   "execution_count": null,
   "metadata": {
    "collapsed": false
   },
   "outputs": [],
   "source": [
    "print get_weights()\n",
    "solver.net.copy_from(get_weights())"
   ]
  },
  {
   "cell_type": "code",
   "execution_count": null,
   "metadata": {
    "collapsed": false
   },
   "outputs": [],
   "source": [
    "#restore_solver(solver)"
   ]
  },
  {
   "cell_type": "code",
   "execution_count": null,
   "metadata": {
    "collapsed": false
   },
   "outputs": [],
   "source": [
    "solver.net.outputs"
   ]
  },
  {
   "cell_type": "code",
   "execution_count": null,
   "metadata": {
    "collapsed": false
   },
   "outputs": [],
   "source": [
    "data_layer = solver.net.layers[0]"
   ]
  },
  {
   "cell_type": "code",
   "execution_count": null,
   "metadata": {
    "collapsed": false
   },
   "outputs": [],
   "source": [
    "epoch_size = len(data_layer.files)\n",
    "batch_size = data_layer.batch_size\n",
    "iters_per_epoch = int(ceil(epoch_size/batch_size))\n",
    "print \"{} samples per epoch\".format(epoch_size)\n",
    "print \"{} samples per (training) batch\".format(batch_size)\n",
    "print \"{} iterations per epoch\".format(iters_per_epoch)\n"
   ]
  },
  {
   "cell_type": "code",
   "execution_count": null,
   "metadata": {
    "collapsed": false
   },
   "outputs": [],
   "source": [
    "data_layer.verbose = False"
   ]
  },
  {
   "cell_type": "code",
   "execution_count": null,
   "metadata": {
    "collapsed": false
   },
   "outputs": [],
   "source": [
    "from pyfacades.util import channels_last"
   ]
  },
  {
   "cell_type": "code",
   "execution_count": null,
   "metadata": {
    "collapsed": false
   },
   "outputs": [],
   "source": [
    "losses = {key:[] for key in solver.net.outputs}  \n",
    "losses['total'] = []"
   ]
  },
  {
   "cell_type": "code",
   "execution_count": null,
   "metadata": {
    "collapsed": false
   },
   "outputs": [],
   "source": [
    "from pyfacades.util import softmax"
   ]
  },
  {
   "cell_type": "code",
   "execution_count": null,
   "metadata": {
    "collapsed": false
   },
   "outputs": [],
   "source": [
    "import smtplib\n",
    "\n",
    "def tell_me_about(issue):\n",
    "    email_address = \"femianjc@miamioh.edu\"\n",
    "\n",
    "    server = smtplib.SMTP('smtp.gmail.com', 587)\n",
    "    server.starttls()\n",
    "    server.login(email_address, pwd)\n",
    "\n",
    "   \n",
    "    msg = \"\"\"\\\n",
    "FROM: \"hal.csi.miamioh.edu\" <femianjc@miamioh.edu>\n",
    "SUBJECT: Deep Learning Alert\n",
    "\n",
    "{}\n",
    ".\n",
    "\"\"\".format(str(issue))\n",
    "\n",
    "    server.sendmail(email_address, email_address, msg)\n",
    "    server.quit()"
   ]
  },
  {
   "cell_type": "code",
   "execution_count": null,
   "metadata": {
    "collapsed": false,
    "scrolled": false
   },
   "outputs": [],
   "source": [
    "fig = figure(figsize(10, 10))\n",
    "ncols = 2\n",
    "nrows = int(ceil(len(solver.net.outputs)/float(ncols)))\n",
    "axes = {key:subplot(nrows, ncols, i+1) for i, key in enumerate(solver.net.outputs)}\n",
    "\n",
    "try:\n",
    "    while True:\n",
    "        solver.step(1)\n",
    "\n",
    "        assert not isnan(solver.net.params['conv1_1'][0].data.var())\n",
    "        clf()\n",
    "\n",
    "        losses['total'].append(0)\n",
    "        for output in solver.net.outputs:\n",
    "            losses[output].append(float(solver.net.blobs[output].data))\n",
    "            losses['total'][-1] += losses[output][-1]\n",
    "        \n",
    "        if solver.iter % 10 != 0:\n",
    "            continue\n",
    "\n",
    "        subplot(2, 1, 1)  \n",
    "        cla()\n",
    "        title(\"Tot: {:2.4f}, Win {:2.4}, Iter {}, Epoch {}\".format( \n",
    "                losses['total'][-1], losses['window-loss'][-1], solver.iter, data_layer.epochs))\n",
    "        for output in ('window-loss',): #solver.net.outputs:\n",
    "            xmax = len(losses['total'])\n",
    "            xmin = max(0, xmax-100)\n",
    "            plot(arange(xmin, xmax), losses[output][xmin:xmax])\n",
    "        plot(arange(xmin, xmax), losses['total'][xmin:xmax])\n",
    "\n",
    "        subplot(2, 2, 3)\n",
    "        cla()\n",
    "        imshow(channels_last(solver.net.blobs['data'].data[0])/255.)\n",
    "        imshow(solver.net.blobs['facade'].data[0,0], alpha=0.3, cmap=cm.Reds)\n",
    "        imshow(solver.net.blobs['window'].data[0,0], alpha=0.3, cmap=cm.Greens)\n",
    "        subplot(2, 2, 4)\n",
    "        cla()\n",
    "        imshow(softmax(solver.net.blobs['conv-window'].data[0])[POSITIVE], cmap=cm.gray)\n",
    "\n",
    "        fig.tight_layout()\n",
    "        fig.canvas.draw()\n",
    "except Exception as e:\n",
    "    msg = traceback.format_exc()\n",
    "    print msg\n",
    "    tell_me_about(msg)"
   ]
  },
  {
   "cell_type": "code",
   "execution_count": null,
   "metadata": {
    "collapsed": false
   },
   "outputs": [],
   "source": [
    "solver.net.blobs['window'].data.shape"
   ]
  },
  {
   "cell_type": "code",
   "execution_count": null,
   "metadata": {
    "collapsed": false
   },
   "outputs": [],
   "source": [
    "def noop(*args): pass"
   ]
  },
  {
   "cell_type": "code",
   "execution_count": null,
   "metadata": {
    "collapsed": false
   },
   "outputs": [],
   "source": [
    "data_layer._transform = noop"
   ]
  },
  {
   "cell_type": "code",
   "execution_count": null,
   "metadata": {
    "collapsed": false
   },
   "outputs": [],
   "source": [
    "type(data_layer)"
   ]
  },
  {
   "cell_type": "code",
   "execution_count": null,
   "metadata": {
    "collapsed": false
   },
   "outputs": [],
   "source": [
    "data_layer.__class__._transform = noop"
   ]
  },
  {
   "cell_type": "code",
   "execution_count": null,
   "metadata": {
    "collapsed": false
   },
   "outputs": [],
   "source": []
  }
 ],
 "metadata": {
  "anaconda-cloud": {},
  "kernelspec": {
   "display_name": "Python [conda env:femiani]",
   "language": "python",
   "name": "conda-env-femiani-py"
  },
  "language_info": {
   "codemirror_mode": {
    "name": "ipython",
    "version": 2
   },
   "file_extension": ".py",
   "mimetype": "text/x-python",
   "name": "python",
   "nbconvert_exporter": "python",
   "pygments_lexer": "ipython2",
   "version": "2.7.12"
  }
 },
 "nbformat": 4,
 "nbformat_minor": 1
}
