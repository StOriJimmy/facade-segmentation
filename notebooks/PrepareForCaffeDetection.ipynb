{
 "cells": [
  {
   "cell_type": "markdown",
   "metadata": {},
   "source": [
    "See https://github.com/NVIDIA/DIGITS/blob/master/digits/extensions/data/objectDetection/README.md"
   ]
  },
  {
   "cell_type": "code",
   "execution_count": null,
   "metadata": {
    "collapsed": false
   },
   "outputs": [],
   "source": [
    "%pylab inline "
   ]
  },
  {
   "cell_type": "code",
   "execution_count": null,
   "metadata": {
    "collapsed": false
   },
   "outputs": [],
   "source": [
    "import os\n",
    "from glob import glob"
   ]
  },
  {
   "cell_type": "code",
   "execution_count": null,
   "metadata": {
    "collapsed": false
   },
   "outputs": [],
   "source": [
    "%%file labelnames.txt\n",
    "dontcare\n",
    "window\n"
   ]
  },
  {
   "cell_type": "code",
   "execution_count": null,
   "metadata": {
    "collapsed": false
   },
   "outputs": [],
   "source": [
    "PROJECT_ROOT = os.path.expanduser('/home/shared/Projects/Facades')\n",
    "CMP_BASE_HOME = os.path.join(PROJECT_ROOT, 'data/raw/CMP_facade_DB_base')\n",
    "CMP_EXTENDED_HOME = os.path.join(PROJECT_ROOT, 'data/raw/CMP_facade_DB_extended')\n",
    "LAMA_LONDON_HOME = os.path.join(PROJECT_ROOT, 'data/raw/london_dataset')"
   ]
  },
  {
   "cell_type": "code",
   "execution_count": null,
   "metadata": {
    "collapsed": false
   },
   "outputs": [],
   "source": [
    "def replace_ext(a, ext):\n",
    "    return os.path.splitext(a)[0] + ext"
   ]
  },
  {
   "cell_type": "code",
   "execution_count": null,
   "metadata": {
    "collapsed": false
   },
   "outputs": [],
   "source": [
    "CMP_BASE_JPGS = glob(os.path.join(CMP_BASE_HOME, 'base', '*.jpg'))\n",
    "CMP_BASE_XMLS = [replace_ext(f, '.xml') for f in CMP_BASE_JPGS]"
   ]
  },
  {
   "cell_type": "code",
   "execution_count": null,
   "metadata": {
    "collapsed": false
   },
   "outputs": [],
   "source": [
    "CMP_EXTENDED_JPGS = glob(os.path.join(CMP_EXTENDED_HOME, 'extended', '*.jpg'))\n",
    "CMP_EXTENDED_XMLS = [replace_ext(f, '.xml') for f in CMP_EXTENDED_JPGS]"
   ]
  },
  {
   "cell_type": "code",
   "execution_count": null,
   "metadata": {
    "collapsed": false
   },
   "outputs": [],
   "source": [
    "CMP_EXTENDED_JPGS.index('/home/shared/Projects/Facades/data/raw/CMP_facade_DB_extended/extended/cmp_x0050.jpg')"
   ]
  },
  {
   "cell_type": "code",
   "execution_count": null,
   "metadata": {
    "collapsed": false
   },
   "outputs": [],
   "source": [
    "import xmltodict\n",
    "from bunch import Bunch"
   ]
  },
  {
   "cell_type": "code",
   "execution_count": null,
   "metadata": {
    "collapsed": false
   },
   "outputs": [],
   "source": [
    "os.listdir(CMP_BASE_HOME)"
   ]
  },
  {
   "cell_type": "code",
   "execution_count": null,
   "metadata": {
    "collapsed": false
   },
   "outputs": [],
   "source": [
    "with open(os.path.join(CMP_BASE_HOME, \"label_names.txt\")) as f:\n",
    "    _ignored, CMP_LABELS, CMP_ZORDER = zip(*[label.strip().lower().split() for label in f.readlines()])\n",
    "CMP_ZORDER = {label:int(z) for (label, z) in zip(CMP_LABELS, CMP_ZORDER)}\n",
    "CMP_ZORDER"
   ]
  },
  {
   "cell_type": "code",
   "execution_count": null,
   "metadata": {
    "collapsed": false
   },
   "outputs": [],
   "source": [
    "def convert_xml_object(o, shape):\n",
    "    \"\"\"Convert XML records from CMP to the KITI format used\n",
    "    by DIGITS for detection\n",
    "    \"\"\"\n",
    "    H, W = shape[:2]\n",
    "    UNUSED = 0\n",
    "    \n",
    "    result = Bunch()\n",
    "    result.type = o['labelname']\n",
    "    result.truncated = UNUSED\n",
    "    result.occluded = UNUSED\n",
    "    result.alpha = UNUSED\n",
    "    \n",
    "    XY = array([o['points']['x'], o['points']['y']]).astype(float)\n",
    "    result.bbox = Bunch()\n",
    "    result.bbox.top  = int(XY[0][0]*H)\n",
    "    result.bbox.left   = int(XY[1][0]*W)\n",
    "    result.bbox.bottom = int(XY[0][1]*H)\n",
    "    result.bbox.right = int(XY[1][1]*W)\n",
    "    \n",
    "    result.dimensions=Bunch()\n",
    "    result.dimensions.height = UNUSED\n",
    "    result.dimensions.width = UNUSED\n",
    "    result.dimensions.length = UNUSED\n",
    "    \n",
    "    result.location = Bunch()\n",
    "    result.location.x = UNUSED\n",
    "    result.location.y = UNUSED\n",
    "    result.location.z = UNUSED\n",
    "    \n",
    "    result.rotation_y = UNUSED\n",
    "    result.score = UNUSED\n",
    "    \n",
    "    return result\n",
    "    \n",
    "def boxes_from_xml(filename, shape):\n",
    "    with open(filename) as f:\n",
    "        contents = f.read()\n",
    "    xml = '<missing_root_element>{}</missing_root_element>'.format(contents)\n",
    "    objects = xmltodict.parse(xml)['missing_root_element']['object']\n",
    "    \n",
    "    objects = [convert_xml_object(o, shape)  for o in objects]\n",
    "    return objects"
   ]
  },
  {
   "cell_type": "code",
   "execution_count": null,
   "metadata": {
    "collapsed": false
   },
   "outputs": [],
   "source": [
    "def object_to_string(o):\n",
    "    return ('{type} {truncated} {occluded} {alpha} {bbox.left:4} {bbox.top:4} {bbox.right:4} {bbox.bottom:4} '+\n",
    "            '{location.x} {location.y} {location.z} {rotation_y} {score}\\n').format(**o)"
   ]
  },
  {
   "cell_type": "code",
   "execution_count": null,
   "metadata": {
    "collapsed": false
   },
   "outputs": [],
   "source": [
    "def debug_cmp_image(index, extended=False):\n",
    "    if not extended:\n",
    "        print CMP_BASE_JPGS[index]\n",
    "        image = imread(CMP_BASE_JPGS[index])\n",
    "        meta = boxes_from_xml(CMP_BASE_XMLS[index], image.shape)\n",
    "    else:\n",
    "        print CMP_EXTENDED_JPGS[index]\n",
    "        image = imread(CMP_EXTENDED_JPGS[index])\n",
    "        meta = boxes_from_xml(CMP_EXTENDED_XMLS[index], image.shape)\n",
    "        \n",
    "    windows = [object_to_string(o) for o in meta if o.type=='window']\n",
    "    \n",
    "    figure()\n",
    "    imshow(image)\n",
    "    ax = gca()\n",
    "    for b in meta:\n",
    "        if b.type != 'window':\n",
    "            continue\n",
    "        r = Rectangle((b.bbox.left, b.bbox.top), b.bbox.right-b.bbox.left, b.bbox.bottom - b.bbox.top, alpha=0.5, color='red')\n",
    "        ax.add_patch(r)\n",
    "\n",
    "debug_cmp_image(10)\n",
    "debug_cmp_image(20)\n",
    "debug_cmp_image(30)\n",
    "debug_cmp_image(30, extended=True)\n",
    "\n"
   ]
  },
  {
   "cell_type": "code",
   "execution_count": null,
   "metadata": {
    "collapsed": false
   },
   "outputs": [],
   "source": [
    "LAMA_RECTIFIED = r'/home/shared/Projects/Facades/data/raw/london_dataset/rectified'\n",
    "LAMA_GROUNDTRUTH = r'/home/shared/Projects/Facades/data/raw/london_dataset/groundtruth'\n",
    "LAMA_JPGS = glob(os.path.join(LAMA_RECTIFIED, '*.jpg'))\n",
    "LAMA_GROUNDTRUTH_PNGS = [os.path.join(LAMA_GROUNDTRUTH, replace_ext(os.path.basename(jpg), '.png')) for jpg in LAMA_JPGS]\n",
    "LAMA_WINDOW_COLOR = (1,0,0)"
   ]
  },
  {
   "cell_type": "code",
   "execution_count": null,
   "metadata": {
    "collapsed": false
   },
   "outputs": [],
   "source": [
    "import errno\n",
    "\n",
    "def mkdir(p):\n",
    "    try:\n",
    "        os.makedirs(p)\n",
    "    except OSError as e:\n",
    "        if e.errno != errno.EEXIST:\n",
    "            raise"
   ]
  },
  {
   "cell_type": "code",
   "execution_count": null,
   "metadata": {
    "collapsed": false
   },
   "outputs": [],
   "source": [
    "from skimage.measure import regionprops, label"
   ]
  },
  {
   "cell_type": "code",
   "execution_count": null,
   "metadata": {
    "collapsed": false
   },
   "outputs": [],
   "source": [
    "def lama_extract_boxes(image):\n",
    "    boxes = [r.bbox for r in regionprops(label(np.all(image[:,:]==LAMA_WINDOW_COLOR, axis=2)))]\n",
    "    strings = ['window 0 0 0 {:4} {:4} {:4} {:4} 0 0 0 0 0'.format(l, t, r, b) for (t, l, b, r) in boxes]\n",
    "    return strings"
   ]
  },
  {
   "cell_type": "code",
   "execution_count": null,
   "metadata": {
    "collapsed": false
   },
   "outputs": [],
   "source": [
    "def debug_lama_image(index):\n",
    "    image = imread(LAMA_JPGS[index])\n",
    "    gt = imread(LAMA_GROUNDTRUTH_PNGS[index])\n",
    "    boxes = [r.bbox for r in regionprops(label(np.all(gt[:,:]==LAMA_WINDOW_COLOR, axis=2)))]\n",
    "\n",
    "    figure()\n",
    "    imshow(image)\n",
    "    ax = gca()\n",
    "    for b in boxes:\n",
    "        top, left, bottom, right = b\n",
    "        r = Rectangle((left, top), right-left, bottom-top,  color='red', alpha=0.5)\n",
    "        ax.add_patch(r)\n",
    "\n",
    "debug_lama_image(10)\n",
    "debug_lama_image(20)\n",
    "debug_lama_image(50)"
   ]
  },
  {
   "cell_type": "code",
   "execution_count": null,
   "metadata": {
    "collapsed": false
   },
   "outputs": [],
   "source": [
    "TRAIN_ROOT = os.path.join(PROJECT_ROOT, 'data', 'detect-windows', 'train')\n",
    "TRAIN_IMAGES = os.path.join(TRAIN_ROOT, 'images')\n",
    "TRAIN_LABELS = os.path.join(TRAIN_ROOT, 'labels')\n",
    "mkdir(TRAIN_ROOT)\n",
    "mkdir(TRAIN_IMAGES)\n",
    "mkdir(TRAIN_LABELS)"
   ]
  },
  {
   "cell_type": "code",
   "execution_count": null,
   "metadata": {
    "collapsed": false
   },
   "outputs": [],
   "source": [
    "for i, (jpg, xml) in enumerate(zip(CMP_BASE_JPGS, CMP_BASE_XMLS)):\n",
    "    image = imread(jpg)\n",
    "    meta = boxes_from_xml(xml, image.shape)\n",
    "    windows = [object_to_string(o) for o in meta if o.type=='window']\n",
    "    \n",
    "    image_name = os.path.join(TRAIN_IMAGES, 'cmpb-{:06}.jpg'.format(i))\n",
    "    label_name = os.path.join(TRAIN_LABELS, 'cmpb-{:06}.txt'.format(i))\n",
    "    \n",
    "    with open(label_name, 'w') as f:\n",
    "        f.writelines(windows)\n",
    "    imsave(image_name, image)\n",
    "    print '\\r', i+1, 'of', len(CMP_BASE_JPGS),\n",
    "print"
   ]
  },
  {
   "cell_type": "code",
   "execution_count": null,
   "metadata": {
    "collapsed": false
   },
   "outputs": [],
   "source": [
    "for i, (jpg, xml) in enumerate(zip(CMP_EXTENDED_JPGS, CMP_EXTENDED_XMLS)):\n",
    "    image = imread(jpg)\n",
    "    meta = boxes_from_xml(xml, image.shape)\n",
    "    windows = [object_to_string(o) for o in meta if o.type=='window']\n",
    "    \n",
    "    image_name = os.path.join(TRAIN_IMAGES, 'cmpx-{:06}.jpg'.format(i))\n",
    "    label_name = os.path.join(TRAIN_LABELS, 'cmpx-{:06}.txt'.format(i))\n",
    "    \n",
    "    with open(label_name, 'w') as f:\n",
    "        f.writelines(windows)\n",
    "    imsave(image_name, image)\n",
    "    print '\\r', i+1, 'of', len(CMP_EXTENDED_JPGS),\n",
    "print"
   ]
  },
  {
   "cell_type": "code",
   "execution_count": null,
   "metadata": {
    "collapsed": false
   },
   "outputs": [],
   "source": [
    "for i, (jpg, gt) in enumerate(zip(LAMA_JPGS, LAMA_GROUNDTRUTH_PNGS)):\n",
    "    image = imread(jpg)\n",
    "    windows = lama_extract_boxes(imread(gt))\n",
    "    \n",
    "    image_name = os.path.join(TRAIN_IMAGES, 'lama-{:06}.jpg'.format(i))\n",
    "    label_name = os.path.join(TRAIN_LABELS, 'lama-{:06}.txt'.format(i))\n",
    "    \n",
    "    with open(label_name, 'w') as f:\n",
    "        f.writelines(windows)\n",
    "    imsave(image_name, image)\n",
    "    print '\\r', i+1, 'of', len(LAMA_JPGS),\n",
    "print"
   ]
  },
  {
   "cell_type": "code",
   "execution_count": null,
   "metadata": {
    "collapsed": false
   },
   "outputs": [],
   "source": [
    "SEGNET_SHAPE = (512, 512, 3)\n",
    "SEGNET_DATA = os.path.join(PROJECT_ROOT, 'data', 'segnet-facade-512x512', 'train')"
   ]
  },
  {
   "cell_type": "code",
   "execution_count": null,
   "metadata": {
    "collapsed": false
   },
   "outputs": [],
   "source": [
    "from skimage.transform import rescale\n",
    "\n",
    "def split_images(image, shape):\n",
    "    scale = shape[0]/float(image.shape[0])\n",
    "    simg = rescale(image, (scale, scale))\n",
    "    if simg.shape[1] < shape[1]:\n",
    "        padding = -simg.shape[1]%shape[1]\n",
    "        if len(simg.shape) == 3:\n",
    "            simg = np.pad(simg, ((0,0),(padding/2,padding-padding/2),(0,0)), mode='constant')\n",
    "        else:\n",
    "            simg = np.pad(simg, ((0,0),(padding/2,padding-padding/2)), mode='constant')\n",
    "    \n",
    "    for x in linspace(0, simg.shape[1]-shape[1], int(ceil(simg.shape[1]/float(shape[1]) ))):\n",
    "        yield simg[:, int(x):int(x)+shape[1]]\n",
    "\n",
    "for img in split_images(imread(CMP_BASE_JPGS[4]), SEGNET_SHAPE):\n",
    "    figure()\n",
    "    imshow(img)\n",
    "    grid()"
   ]
  },
  {
   "cell_type": "code",
   "execution_count": null,
   "metadata": {
    "collapsed": false
   },
   "outputs": [],
   "source": [
    "IGNORE_INDEX = 0\n",
    "WINDOW_INDEX = 1\n",
    "DOOR_INDEX = 2\n",
    "FACADE_EDGE_INDEX = 3\n",
    "OTHER_INDEX = 4\n",
    "\n",
    "EDGE_THICKNESS=3\n",
    "\n",
    "def make_cmp_segnet_inputs(jpg, xml, scale=1.):\n",
    "    image = imread(jpg)\n",
    "    image = rescale(image, SEGNET_SHAPE[0]/float(image.shape[0]))\n",
    "    meta = boxes_from_xml(xml, image.shape)\n",
    "    \n",
    "    windows = [o for o in meta if o.type=='window']\n",
    "    doors = [o for o in meta if o.type=='door']\n",
    "    shops  = [o for o in meta if o.type=='shop']\n",
    "    facade = [o for o in meta if o.type=='facade']\n",
    "    \n",
    "    labels = np.zeros(image.shape[:2], dtype=np.uint8)\n",
    "    \n",
    "    for o in facade:\n",
    "        labels[o.bbox.top:o.bbox.bottom, o.bbox.left:o.bbox.right] = OTHER_INDEX\n",
    "    for o in shops:\n",
    "        labels[o.bbox.top:o.bbox.bottom, o.bbox.left:o.bbox.right] = IGNORE_INDEX\n",
    "    for o in facade:\n",
    "        labels[o.bbox.top:o.bbox.bottom, o.bbox.right-EDGE_THICKNESS/2:o.bbox.right+EDGE_THICKNESS/2+1] = FACADE_EDGE_INDEX  \n",
    "        labels[o.bbox.top:o.bbox.bottom, o.bbox.left-EDGE_THICKNESS/2:o.bbox.left+EDGE_THICKNESS/2+1] = FACADE_EDGE_INDEX  \n",
    "    for o in doors:\n",
    "        labels[o.bbox.top:o.bbox.bottom, o.bbox.left:o.bbox.right] = DOOR_INDEX\n",
    "    for o in windows:\n",
    "        labels[o.bbox.top:o.bbox.bottom, o.bbox.left:o.bbox.right] = WINDOW_INDEX\n",
    "    \n",
    "    out_images = list(split_images(image, SEGNET_SHAPE))\n",
    "    out_labels = list(split_images(labels, SEGNET_SHAPE))\n",
    "    \n",
    "    for out_image, out_label in zip(out_images, out_labels):\n",
    "        if not np.all(out_label == IGNORE_INDEX):\n",
    "            yield out_image, out_label"
   ]
  },
  {
   "cell_type": "code",
   "execution_count": null,
   "metadata": {
    "collapsed": false
   },
   "outputs": [],
   "source": [
    "figsize(10,20)\n",
    "for image, labels in make_cmp_segnet_inputs(CMP_BASE_JPGS[8],CMP_BASE_XMLS[8]):\n",
    "    figure()\n",
    "    subplot(1,2,1)\n",
    "    imshow(image)\n",
    "    grid()\n",
    "    subplot(1,2,2)\n",
    "    imshow(labels)\n",
    "    grid()"
   ]
  },
  {
   "cell_type": "code",
   "execution_count": null,
   "metadata": {
    "collapsed": false
   },
   "outputs": [],
   "source": [
    "figsize(10,20)\n",
    "for image, labels in make_cmp_segnet_inputs(CMP_EXTENDED_JPGS[8],CMP_EXTENDED_XMLS[8]):\n",
    "    figure()\n",
    "    subplot(1,2,1)\n",
    "    imshow(image)\n",
    "    grid()\n",
    "    subplot(1,2,2)\n",
    "    imshow(labels)\n",
    "    grid()"
   ]
  },
  {
   "cell_type": "code",
   "execution_count": null,
   "metadata": {
    "collapsed": false
   },
   "outputs": [],
   "source": [
    "from skimage.morphology import binary_dilation, disk"
   ]
  },
  {
   "cell_type": "code",
   "execution_count": null,
   "metadata": {
    "collapsed": false
   },
   "outputs": [],
   "source": [
    "LAMA_FACADE_COLOR = (1,1,0)\n",
    "def make_lama_segnet_inputs(jpg, gt_path):\n",
    "    image = imread(jpg)\n",
    "    gt = imread(gt_path)\n",
    "    windows = np.all(gt[:,:]==LAMA_WINDOW_COLOR, axis=2) \n",
    "    facade = np.all(gt[:,:]==LAMA_FACADE_COLOR, axis=2) | windows\n",
    "    edges = np.repeat([(facade[:, 1:] != facade[:, :-1]).max(axis=0)] , facade.shape[0], axis=0)\n",
    "    edges *= binary_dilation(facade, disk(1))[:,:-1]\n",
    "    edges = np.pad(edges, ((0,0), (0,1)), mode='constant')\n",
    "    edges = binary_dilation(edges, disk(EDGE_THICKNESS))\n",
    "    \n",
    "    labels = np.zeros(image.shape[:2], dtype=np.uint8)\n",
    "    \n",
    "    labels[facade] = OTHER_INDEX\n",
    "    labels[edges] = IGNORE_INDEX  \n",
    "    labels[windows] = WINDOW_INDEX\n",
    "    \n",
    "    out_images = list(split_images(image, SEGNET_SHAPE))\n",
    "    out_labels = list(split_images(labels, SEGNET_SHAPE))\n",
    "    \n",
    "    for out_image, out_label in zip(out_images, out_labels):\n",
    "        if not np.all(out_label == IGNORE_INDEX):\n",
    "            yield out_image, out_label    \n",
    "    \n",
    "    \n",
    "figsize(10,20)\n",
    "for image, labels in make_lama_segnet_inputs(LAMA_JPGS[350],LAMA_GROUNDTRUTH_PNGS[350]):\n",
    "    figure()\n",
    "    subplot(1,2,1)\n",
    "    imshow(image)\n",
    "    grid()\n",
    "    subplot(1,2,2)\n",
    "    imshow(labels)\n",
    "    grid()"
   ]
  },
  {
   "cell_type": "code",
   "execution_count": null,
   "metadata": {
    "collapsed": false
   },
   "outputs": [],
   "source": [
    "COMBINED_CMP_JPG = CMP_BASE_JPGS + CMP_EXTENDED_JPGS\n",
    "COMBINED_CMP_XML = CMP_BASE_XMLS + CMP_EXTENDED_XMLS\n",
    "print len(COMBINED_CMP_JPG)"
   ]
  },
  {
   "cell_type": "code",
   "execution_count": null,
   "metadata": {
    "collapsed": false
   },
   "outputs": [],
   "source": [
    "mkdir(SEGNET_DATA)\n",
    "print SEGNET_DATA\n",
    "mkdir(os.path.join(SEGNET_DATA, 'figs'))\n",
    "mkdir(os.path.join(SEGNET_DATA, 'data'))\n",
    "mkdir(os.path.join(SEGNET_DATA, 'labels'))"
   ]
  },
  {
   "cell_type": "code",
   "execution_count": null,
   "metadata": {
    "collapsed": false,
    "scrolled": false
   },
   "outputs": [],
   "source": [
    "def generate_images(name, img, label):   \n",
    "    img = img_as_ubyte(img.clip(0,1))\n",
    "    label = img_as_ubyte(label)\n",
    "    \n",
    "    figsize(12, 5)\n",
    "    suptitle(name)\n",
    "    subplot(121)\n",
    "    imshow(img)\n",
    "    title('data')\n",
    "    axis('off')\n",
    "    subplot(122)\n",
    "    title('labels')\n",
    "    imshow(label, vmin=0, vmax=4)\n",
    "    axis('off')\n",
    "    \n",
    "    print '\\r processing image', name,\n",
    "\n",
    "    \n",
    "    savefig(os.path.join(SEGNET_DATA, 'figs', name + '.png'))\n",
    "    \n",
    "    img_name = os.path.join(SEGNET_DATA, 'data', name + '.png')\n",
    "    label_name = os.path.join(SEGNET_DATA, 'labels', name + '.png')\n",
    "\n",
    "    imsave(img_name, img)\n",
    "    imsave(label_name, label)\n",
    "    \n",
    "    return img_name, label_name  \n",
    "        "
   ]
  },
  {
   "cell_type": "code",
   "execution_count": null,
   "metadata": {
    "collapsed": false
   },
   "outputs": [],
   "source": [
    "from skimage.util import img_as_ubyte\n",
    "from skimage.filters import gaussian\n",
    "from skimage.transform import warp, AffineTransform, ProjectiveTransform"
   ]
  },
  {
   "cell_type": "code",
   "execution_count": null,
   "metadata": {
    "collapsed": false
   },
   "outputs": [],
   "source": [
    "def scale_in_place(img, scale):\n",
    "    return warp(img[::-1], AffineTransform(scale=(scale, scale), translation=(((1-scale)/2)*800,0)).inverse)[::-1]\n",
    "\n",
    "import gc\n",
    "\n",
    "def augmented_segnet_images(name, img, labels):\n",
    "    generate_images(name+'-orig', img, labels)\n",
    "    generate_images(name+'-dark',img*0.5, labels)\n",
    "    generate_images(name+'-blurry', gaussian(img, 3), labels)\n",
    "    generate_images(name+'-shrunk', scale_in_place(img, 0.9), scale_in_place(labels, 0.9))\n",
    "    \n",
    "def process_lama_image(bundle):\n",
    "    jpg, gt_path = bundle\n",
    "    stem = os.path.splitext(os.path.basename(jpg))[0]\n",
    "    for i, (img, labels) in enumerate(make_lama_segnet_inputs(jpg, gt_path)):\n",
    "        augmented_segnet_images(stem + '-{}'.format(i), img, labels)\n",
    "    gc.collect()\n",
    "\n",
    "def process_cmp_image(bundle):\n",
    "    jpg, xml=bundle\n",
    "    stem = os.path.splitext(os.path.basename(jpg))[0]\n",
    "    for i, (img, labels) in enumerate(make_cmp_segnet_inputs(jpg, xml)):\n",
    "        augmented_segnet_images(stem + '-{}'.format(i), img, labels)\n",
    "    gc.collect()"
   ]
  },
  {
   "cell_type": "code",
   "execution_count": null,
   "metadata": {
    "collapsed": false
   },
   "outputs": [],
   "source": [
    "process_cmp_image((COMBINED_CMP_JPG[-2], COMBINED_CMP_XML[-2]))"
   ]
  },
  {
   "cell_type": "code",
   "execution_count": null,
   "metadata": {
    "collapsed": false
   },
   "outputs": [],
   "source": [
    "for i in range(3,40):\n",
    "    print i\n",
    "    process_lama_image((LAMA_JPGS[i], LAMA_GROUNDTRUTH_PNGS[i]))\n",
    "    print"
   ]
  },
  {
   "cell_type": "code",
   "execution_count": null,
   "metadata": {
    "collapsed": false
   },
   "outputs": [],
   "source": [
    "from multiprocessing import Pool\n",
    "\n",
    "try:\n",
    "    workers = Pool()\n",
    "    for i, x in enumerate(workers.imap_unordered(process_cmp_image, zip(COMBINED_CMP_JPG, COMBINED_CMP_XML))):\n",
    "        print '\\r CMP', i, 'of', len(COMBINED_CMP_JPG),\n",
    "    for  i, x in enumerate(workers.imap_unordered(process_lama_image, zip(LAMA_JPGS, LAMA_GROUNDTRUTH_PNGS)) ):\n",
    "        print '\\r Lama', i, 'of', len(COMBINED_CMP_JPG),\n",
    "finally:\n",
    "    workers.terminate()    "
   ]
  },
  {
   "cell_type": "code",
   "execution_count": null,
   "metadata": {
    "collapsed": false
   },
   "outputs": [],
   "source": [
    "SEGNET_TRAIN_DB = os.path.join(SEGNET_DATA, '../train.txt')\n",
    "SEGNET_TEST_DB = os.path.join(SEGNET_DATA, '../test.txt')"
   ]
  },
  {
   "cell_type": "code",
   "execution_count": null,
   "metadata": {
    "collapsed": false
   },
   "outputs": [],
   "source": [
    "data_paths = glob(os.path.join(SEGNET_DATA, 'data', '*.png'))\n",
    "label_paths =  [os.path.abspath(os.path.join(SEGNET_DATA, 'data', '..', 'labels', os.path.split(fn)[1])) for fn in data_paths]\n",
    "training_data = zip(data_paths, label_paths)\n",
    "for name, labels in training_data:\n",
    "    assert os.path.isfile(labels)"
   ]
  },
  {
   "cell_type": "code",
   "execution_count": null,
   "metadata": {
    "collapsed": false
   },
   "outputs": [],
   "source": [
    "# Try to fix the fact that I did not split the data for testing"
   ]
  },
  {
   "cell_type": "code",
   "execution_count": null,
   "metadata": {
    "collapsed": false
   },
   "outputs": [],
   "source": [
    "raw_files = array(training_data)\n",
    "grouped_files = raw_files.reshape(-1, 4, 2)\n",
    "np.random.shuffle(grouped_files)\n",
    "\n",
    "training_set = grouped_files[:-100].reshape(-1, 2)\n",
    "test_set = grouped_files[-100:].reshape(-1, 2)\n",
    "\n",
    "np.random.shuffle(training_set)\n",
    "np.random.shuffle(test_set)\n",
    "\n",
    "print 'train:', len(training_set), '   test', len(test_set)"
   ]
  },
  {
   "cell_type": "code",
   "execution_count": null,
   "metadata": {
    "collapsed": false
   },
   "outputs": [],
   "source": [
    "with open(SEGNET_TRAIN_DB, 'w') as f:\n",
    "    f.writelines([' '.join(record) + '\\n' for record in training_set])"
   ]
  },
  {
   "cell_type": "code",
   "execution_count": null,
   "metadata": {
    "collapsed": false
   },
   "outputs": [],
   "source": [
    "with open(SEGNET_TEST_DB, 'w') as f:\n",
    "    f.writelines([' '.join(record) + '\\n' for record in test_set])"
   ]
  },
  {
   "cell_type": "code",
   "execution_count": null,
   "metadata": {
    "collapsed": false
   },
   "outputs": [],
   "source": [
    "from PIL import Image\n",
    "for data, label in training_set:\n",
    "    im = Image.open(data)\n",
    "    lb = Image.open(label)\n",
    "    assert im.size == (800, 600)\n",
    "    assert lb.size == (800, 600)\n",
    "    print '\\r', os.path.split(data)[1], 'ok',\n",
    "        "
   ]
  },
  {
   "cell_type": "code",
   "execution_count": null,
   "metadata": {
    "collapsed": false
   },
   "outputs": [],
   "source": []
  }
 ],
 "metadata": {
  "kernelspec": {
   "display_name": "Python [conda env:femiani]",
   "language": "python",
   "name": "conda-env-femiani-py"
  },
  "language_info": {
   "codemirror_mode": {
    "name": "ipython",
    "version": 2
   },
   "file_extension": ".py",
   "mimetype": "text/x-python",
   "name": "python",
   "nbconvert_exporter": "python",
   "pygments_lexer": "ipython2",
   "version": "2.7.12"
  }
 },
 "nbformat": 4,
 "nbformat_minor": 1
}
